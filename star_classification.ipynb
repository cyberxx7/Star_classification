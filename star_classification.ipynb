{
  "cells": [
    {
      "cell_type": "markdown",
      "metadata": {
        "id": "view-in-github",
        "colab_type": "text"
      },
      "source": [
        "<a href=\"https://colab.research.google.com/github/cyberxx7/Star_classification/blob/main/star_classification.ipynb\" target=\"_parent\"><img src=\"https://colab.research.google.com/assets/colab-badge.svg\" alt=\"Open In Colab\"/></a>"
      ]
    },
    {
      "cell_type": "code",
      "execution_count": 3,
      "metadata": {
        "id": "07355fab-2a3b-493e-bcf5-33310272cf0c"
      },
      "outputs": [],
      "source": [
        "import pandas as pd\n",
        "import numpy as np\n",
        "import matplotlib.pyplot as plt\n",
        "import seaborn as sns\n",
        "from sklearn.model_selection import train_test_split\n",
        "from sklearn.preprocessing import StandardScaler, MinMaxScaler\n",
        "from statsmodels.stats.outliers_influence import variance_inflation_factor\n",
        "from imblearn.over_sampling import SMOTE\n",
        "from sklearn.decomposition import PCA\n",
        "from sklearn.linear_model import LogisticRegression\n",
        "from sklearn.metrics import confusion_matrix\n",
        "from sklearn.model_selection import cross_val_score\n",
        "from sklearn.model_selection import RepeatedKFold\n",
        "from sklearn.metrics import classification_report\n",
        "from sklearn.ensemble import RandomForestClassifier\n",
        "from sklearn.svm import SVC"
      ],
      "id": "07355fab-2a3b-493e-bcf5-33310272cf0c"
    },
    {
      "cell_type": "code",
      "execution_count": 4,
      "metadata": {
        "colab": {
          "base_uri": "https://localhost:8080/",
          "height": 487
        },
        "id": "ab44629b-37b3-4f7b-b68f-51c6b5763c8c",
        "outputId": "cb46fd24-1dc8-4ff4-e614-94cb19f6200e"
      },
      "outputs": [
        {
          "output_type": "execute_result",
          "data": {
            "text/plain": [
              "             obj_ID       alpha      delta         u         g         r  \\\n",
              "0      1.237661e+18  135.689107  32.494632  23.87882  22.27530  20.39501   \n",
              "1      1.237665e+18  144.826101  31.274185  24.77759  22.83188  22.58444   \n",
              "2      1.237661e+18  142.188790  35.582444  25.26307  22.66389  20.60976   \n",
              "3      1.237663e+18  338.741038  -0.402828  22.13682  23.77656  21.61162   \n",
              "4      1.237680e+18  345.282593  21.183866  19.43718  17.58028  16.49747   \n",
              "...             ...         ...        ...       ...       ...       ...   \n",
              "43797  1.237659e+18  201.624727   6.578219  20.98239  18.84827  17.68662   \n",
              "43798  1.237679e+18  325.211753   2.045357  20.85815  20.65278  20.43727   \n",
              "43799  1.237661e+18  202.717281  45.848246  23.46482  22.33689  20.90505   \n",
              "43800  1.237661e+18  115.883288  20.052520  23.58445  22.85084  22.56028   \n",
              "43801  1.237663e+18  319.852246   0.043314  25.93974  22.98193  21.14848   \n",
              "\n",
              "              i         z  run_ID  rerun_ID  cam_col  field_ID   spec_obj_ID  \\\n",
              "0      19.16573  18.79371    3606       301        2        79  6.543777e+18   \n",
              "1      21.16812  21.61427    4518       301        5       119  1.176014e+19   \n",
              "2      19.34857  18.94827    3606       301        2       120  5.152200e+18   \n",
              "3      20.50454  19.25010    4192       301        3       214  1.030107e+19   \n",
              "4      15.97711  15.54461    8102       301        3       137  6.891865e+18   \n",
              "...         ...       ...     ...       ...      ...       ...           ...   \n",
              "43797  17.23599  16.88903    3230       301        2        27  2.025522e+18   \n",
              "43798  20.36541  20.16899    7717       301        4        97  1.031689e+19   \n",
              "43799  19.86001  19.24836    3699       301        3       103  7.461520e+18   \n",
              "43800  21.89615  23.57576    3605       301        4        39  1.008138e+19   \n",
              "43801  20.04206  19.55464    4187       301        4        81  4.719827e+18   \n",
              "\n",
              "        class  redshift  plate    MJD  fiber_ID  \n",
              "0      GALAXY  0.634794   5812  56354       171  \n",
              "1      GALAXY  0.779136  10445  58158       427  \n",
              "2      GALAXY  0.644195   4576  55592       299  \n",
              "3      GALAXY  0.932346   9149  58039       775  \n",
              "4      GALAXY  0.116123   6121  56187       842  \n",
              "...       ...       ...    ...    ...       ...  \n",
              "43797  GALAXY  0.160690   1799  53556       101  \n",
              "43798     QSO  1.428801   9163  58043       968  \n",
              "43799  GALAXY  0.588259   6627  56369       661  \n",
              "43800  GALAXY  0.951026   8954  57453       261  \n",
              "43801  GALAXY  0.583423   4192  55469       200  \n",
              "\n",
              "[43802 rows x 18 columns]"
            ],
            "text/html": [
              "\n",
              "  <div id=\"df-e9c1c392-646c-479e-9ade-3a127af28a91\">\n",
              "    <div class=\"colab-df-container\">\n",
              "      <div>\n",
              "<style scoped>\n",
              "    .dataframe tbody tr th:only-of-type {\n",
              "        vertical-align: middle;\n",
              "    }\n",
              "\n",
              "    .dataframe tbody tr th {\n",
              "        vertical-align: top;\n",
              "    }\n",
              "\n",
              "    .dataframe thead th {\n",
              "        text-align: right;\n",
              "    }\n",
              "</style>\n",
              "<table border=\"1\" class=\"dataframe\">\n",
              "  <thead>\n",
              "    <tr style=\"text-align: right;\">\n",
              "      <th></th>\n",
              "      <th>obj_ID</th>\n",
              "      <th>alpha</th>\n",
              "      <th>delta</th>\n",
              "      <th>u</th>\n",
              "      <th>g</th>\n",
              "      <th>r</th>\n",
              "      <th>i</th>\n",
              "      <th>z</th>\n",
              "      <th>run_ID</th>\n",
              "      <th>rerun_ID</th>\n",
              "      <th>cam_col</th>\n",
              "      <th>field_ID</th>\n",
              "      <th>spec_obj_ID</th>\n",
              "      <th>class</th>\n",
              "      <th>redshift</th>\n",
              "      <th>plate</th>\n",
              "      <th>MJD</th>\n",
              "      <th>fiber_ID</th>\n",
              "    </tr>\n",
              "  </thead>\n",
              "  <tbody>\n",
              "    <tr>\n",
              "      <th>0</th>\n",
              "      <td>1.237661e+18</td>\n",
              "      <td>135.689107</td>\n",
              "      <td>32.494632</td>\n",
              "      <td>23.87882</td>\n",
              "      <td>22.27530</td>\n",
              "      <td>20.39501</td>\n",
              "      <td>19.16573</td>\n",
              "      <td>18.79371</td>\n",
              "      <td>3606</td>\n",
              "      <td>301</td>\n",
              "      <td>2</td>\n",
              "      <td>79</td>\n",
              "      <td>6.543777e+18</td>\n",
              "      <td>GALAXY</td>\n",
              "      <td>0.634794</td>\n",
              "      <td>5812</td>\n",
              "      <td>56354</td>\n",
              "      <td>171</td>\n",
              "    </tr>\n",
              "    <tr>\n",
              "      <th>1</th>\n",
              "      <td>1.237665e+18</td>\n",
              "      <td>144.826101</td>\n",
              "      <td>31.274185</td>\n",
              "      <td>24.77759</td>\n",
              "      <td>22.83188</td>\n",
              "      <td>22.58444</td>\n",
              "      <td>21.16812</td>\n",
              "      <td>21.61427</td>\n",
              "      <td>4518</td>\n",
              "      <td>301</td>\n",
              "      <td>5</td>\n",
              "      <td>119</td>\n",
              "      <td>1.176014e+19</td>\n",
              "      <td>GALAXY</td>\n",
              "      <td>0.779136</td>\n",
              "      <td>10445</td>\n",
              "      <td>58158</td>\n",
              "      <td>427</td>\n",
              "    </tr>\n",
              "    <tr>\n",
              "      <th>2</th>\n",
              "      <td>1.237661e+18</td>\n",
              "      <td>142.188790</td>\n",
              "      <td>35.582444</td>\n",
              "      <td>25.26307</td>\n",
              "      <td>22.66389</td>\n",
              "      <td>20.60976</td>\n",
              "      <td>19.34857</td>\n",
              "      <td>18.94827</td>\n",
              "      <td>3606</td>\n",
              "      <td>301</td>\n",
              "      <td>2</td>\n",
              "      <td>120</td>\n",
              "      <td>5.152200e+18</td>\n",
              "      <td>GALAXY</td>\n",
              "      <td>0.644195</td>\n",
              "      <td>4576</td>\n",
              "      <td>55592</td>\n",
              "      <td>299</td>\n",
              "    </tr>\n",
              "    <tr>\n",
              "      <th>3</th>\n",
              "      <td>1.237663e+18</td>\n",
              "      <td>338.741038</td>\n",
              "      <td>-0.402828</td>\n",
              "      <td>22.13682</td>\n",
              "      <td>23.77656</td>\n",
              "      <td>21.61162</td>\n",
              "      <td>20.50454</td>\n",
              "      <td>19.25010</td>\n",
              "      <td>4192</td>\n",
              "      <td>301</td>\n",
              "      <td>3</td>\n",
              "      <td>214</td>\n",
              "      <td>1.030107e+19</td>\n",
              "      <td>GALAXY</td>\n",
              "      <td>0.932346</td>\n",
              "      <td>9149</td>\n",
              "      <td>58039</td>\n",
              "      <td>775</td>\n",
              "    </tr>\n",
              "    <tr>\n",
              "      <th>4</th>\n",
              "      <td>1.237680e+18</td>\n",
              "      <td>345.282593</td>\n",
              "      <td>21.183866</td>\n",
              "      <td>19.43718</td>\n",
              "      <td>17.58028</td>\n",
              "      <td>16.49747</td>\n",
              "      <td>15.97711</td>\n",
              "      <td>15.54461</td>\n",
              "      <td>8102</td>\n",
              "      <td>301</td>\n",
              "      <td>3</td>\n",
              "      <td>137</td>\n",
              "      <td>6.891865e+18</td>\n",
              "      <td>GALAXY</td>\n",
              "      <td>0.116123</td>\n",
              "      <td>6121</td>\n",
              "      <td>56187</td>\n",
              "      <td>842</td>\n",
              "    </tr>\n",
              "    <tr>\n",
              "      <th>...</th>\n",
              "      <td>...</td>\n",
              "      <td>...</td>\n",
              "      <td>...</td>\n",
              "      <td>...</td>\n",
              "      <td>...</td>\n",
              "      <td>...</td>\n",
              "      <td>...</td>\n",
              "      <td>...</td>\n",
              "      <td>...</td>\n",
              "      <td>...</td>\n",
              "      <td>...</td>\n",
              "      <td>...</td>\n",
              "      <td>...</td>\n",
              "      <td>...</td>\n",
              "      <td>...</td>\n",
              "      <td>...</td>\n",
              "      <td>...</td>\n",
              "      <td>...</td>\n",
              "    </tr>\n",
              "    <tr>\n",
              "      <th>43797</th>\n",
              "      <td>1.237659e+18</td>\n",
              "      <td>201.624727</td>\n",
              "      <td>6.578219</td>\n",
              "      <td>20.98239</td>\n",
              "      <td>18.84827</td>\n",
              "      <td>17.68662</td>\n",
              "      <td>17.23599</td>\n",
              "      <td>16.88903</td>\n",
              "      <td>3230</td>\n",
              "      <td>301</td>\n",
              "      <td>2</td>\n",
              "      <td>27</td>\n",
              "      <td>2.025522e+18</td>\n",
              "      <td>GALAXY</td>\n",
              "      <td>0.160690</td>\n",
              "      <td>1799</td>\n",
              "      <td>53556</td>\n",
              "      <td>101</td>\n",
              "    </tr>\n",
              "    <tr>\n",
              "      <th>43798</th>\n",
              "      <td>1.237679e+18</td>\n",
              "      <td>325.211753</td>\n",
              "      <td>2.045357</td>\n",
              "      <td>20.85815</td>\n",
              "      <td>20.65278</td>\n",
              "      <td>20.43727</td>\n",
              "      <td>20.36541</td>\n",
              "      <td>20.16899</td>\n",
              "      <td>7717</td>\n",
              "      <td>301</td>\n",
              "      <td>4</td>\n",
              "      <td>97</td>\n",
              "      <td>1.031689e+19</td>\n",
              "      <td>QSO</td>\n",
              "      <td>1.428801</td>\n",
              "      <td>9163</td>\n",
              "      <td>58043</td>\n",
              "      <td>968</td>\n",
              "    </tr>\n",
              "    <tr>\n",
              "      <th>43799</th>\n",
              "      <td>1.237661e+18</td>\n",
              "      <td>202.717281</td>\n",
              "      <td>45.848246</td>\n",
              "      <td>23.46482</td>\n",
              "      <td>22.33689</td>\n",
              "      <td>20.90505</td>\n",
              "      <td>19.86001</td>\n",
              "      <td>19.24836</td>\n",
              "      <td>3699</td>\n",
              "      <td>301</td>\n",
              "      <td>3</td>\n",
              "      <td>103</td>\n",
              "      <td>7.461520e+18</td>\n",
              "      <td>GALAXY</td>\n",
              "      <td>0.588259</td>\n",
              "      <td>6627</td>\n",
              "      <td>56369</td>\n",
              "      <td>661</td>\n",
              "    </tr>\n",
              "    <tr>\n",
              "      <th>43800</th>\n",
              "      <td>1.237661e+18</td>\n",
              "      <td>115.883288</td>\n",
              "      <td>20.052520</td>\n",
              "      <td>23.58445</td>\n",
              "      <td>22.85084</td>\n",
              "      <td>22.56028</td>\n",
              "      <td>21.89615</td>\n",
              "      <td>23.57576</td>\n",
              "      <td>3605</td>\n",
              "      <td>301</td>\n",
              "      <td>4</td>\n",
              "      <td>39</td>\n",
              "      <td>1.008138e+19</td>\n",
              "      <td>GALAXY</td>\n",
              "      <td>0.951026</td>\n",
              "      <td>8954</td>\n",
              "      <td>57453</td>\n",
              "      <td>261</td>\n",
              "    </tr>\n",
              "    <tr>\n",
              "      <th>43801</th>\n",
              "      <td>1.237663e+18</td>\n",
              "      <td>319.852246</td>\n",
              "      <td>0.043314</td>\n",
              "      <td>25.93974</td>\n",
              "      <td>22.98193</td>\n",
              "      <td>21.14848</td>\n",
              "      <td>20.04206</td>\n",
              "      <td>19.55464</td>\n",
              "      <td>4187</td>\n",
              "      <td>301</td>\n",
              "      <td>4</td>\n",
              "      <td>81</td>\n",
              "      <td>4.719827e+18</td>\n",
              "      <td>GALAXY</td>\n",
              "      <td>0.583423</td>\n",
              "      <td>4192</td>\n",
              "      <td>55469</td>\n",
              "      <td>200</td>\n",
              "    </tr>\n",
              "  </tbody>\n",
              "</table>\n",
              "<p>43802 rows × 18 columns</p>\n",
              "</div>\n",
              "      <button class=\"colab-df-convert\" onclick=\"convertToInteractive('df-e9c1c392-646c-479e-9ade-3a127af28a91')\"\n",
              "              title=\"Convert this dataframe to an interactive table.\"\n",
              "              style=\"display:none;\">\n",
              "        \n",
              "  <svg xmlns=\"http://www.w3.org/2000/svg\" height=\"24px\"viewBox=\"0 0 24 24\"\n",
              "       width=\"24px\">\n",
              "    <path d=\"M0 0h24v24H0V0z\" fill=\"none\"/>\n",
              "    <path d=\"M18.56 5.44l.94 2.06.94-2.06 2.06-.94-2.06-.94-.94-2.06-.94 2.06-2.06.94zm-11 1L8.5 8.5l.94-2.06 2.06-.94-2.06-.94L8.5 2.5l-.94 2.06-2.06.94zm10 10l.94 2.06.94-2.06 2.06-.94-2.06-.94-.94-2.06-.94 2.06-2.06.94z\"/><path d=\"M17.41 7.96l-1.37-1.37c-.4-.4-.92-.59-1.43-.59-.52 0-1.04.2-1.43.59L10.3 9.45l-7.72 7.72c-.78.78-.78 2.05 0 2.83L4 21.41c.39.39.9.59 1.41.59.51 0 1.02-.2 1.41-.59l7.78-7.78 2.81-2.81c.8-.78.8-2.07 0-2.86zM5.41 20L4 18.59l7.72-7.72 1.47 1.35L5.41 20z\"/>\n",
              "  </svg>\n",
              "      </button>\n",
              "      \n",
              "  <style>\n",
              "    .colab-df-container {\n",
              "      display:flex;\n",
              "      flex-wrap:wrap;\n",
              "      gap: 12px;\n",
              "    }\n",
              "\n",
              "    .colab-df-convert {\n",
              "      background-color: #E8F0FE;\n",
              "      border: none;\n",
              "      border-radius: 50%;\n",
              "      cursor: pointer;\n",
              "      display: none;\n",
              "      fill: #1967D2;\n",
              "      height: 32px;\n",
              "      padding: 0 0 0 0;\n",
              "      width: 32px;\n",
              "    }\n",
              "\n",
              "    .colab-df-convert:hover {\n",
              "      background-color: #E2EBFA;\n",
              "      box-shadow: 0px 1px 2px rgba(60, 64, 67, 0.3), 0px 1px 3px 1px rgba(60, 64, 67, 0.15);\n",
              "      fill: #174EA6;\n",
              "    }\n",
              "\n",
              "    [theme=dark] .colab-df-convert {\n",
              "      background-color: #3B4455;\n",
              "      fill: #D2E3FC;\n",
              "    }\n",
              "\n",
              "    [theme=dark] .colab-df-convert:hover {\n",
              "      background-color: #434B5C;\n",
              "      box-shadow: 0px 1px 3px 1px rgba(0, 0, 0, 0.15);\n",
              "      filter: drop-shadow(0px 1px 2px rgba(0, 0, 0, 0.3));\n",
              "      fill: #FFFFFF;\n",
              "    }\n",
              "  </style>\n",
              "\n",
              "      <script>\n",
              "        const buttonEl =\n",
              "          document.querySelector('#df-e9c1c392-646c-479e-9ade-3a127af28a91 button.colab-df-convert');\n",
              "        buttonEl.style.display =\n",
              "          google.colab.kernel.accessAllowed ? 'block' : 'none';\n",
              "\n",
              "        async function convertToInteractive(key) {\n",
              "          const element = document.querySelector('#df-e9c1c392-646c-479e-9ade-3a127af28a91');\n",
              "          const dataTable =\n",
              "            await google.colab.kernel.invokeFunction('convertToInteractive',\n",
              "                                                     [key], {});\n",
              "          if (!dataTable) return;\n",
              "\n",
              "          const docLinkHtml = 'Like what you see? Visit the ' +\n",
              "            '<a target=\"_blank\" href=https://colab.research.google.com/notebooks/data_table.ipynb>data table notebook</a>'\n",
              "            + ' to learn more about interactive tables.';\n",
              "          element.innerHTML = '';\n",
              "          dataTable['output_type'] = 'display_data';\n",
              "          await google.colab.output.renderOutput(dataTable, element);\n",
              "          const docLink = document.createElement('div');\n",
              "          docLink.innerHTML = docLinkHtml;\n",
              "          element.appendChild(docLink);\n",
              "        }\n",
              "      </script>\n",
              "    </div>\n",
              "  </div>\n",
              "  "
            ]
          },
          "metadata": {},
          "execution_count": 4
        }
      ],
      "source": [
        "df = pd.read_csv(\"star_classification.csv\")\n",
        "df"
      ],
      "id": "ab44629b-37b3-4f7b-b68f-51c6b5763c8c"
    },
    {
      "cell_type": "code",
      "execution_count": 5,
      "metadata": {
        "colab": {
          "base_uri": "https://localhost:8080/",
          "height": 522
        },
        "id": "bdee5878-2318-489b-bb20-789b019c256f",
        "outputId": "87ad6235-8edf-4ecc-e16d-e1b74b6b4f2d"
      },
      "outputs": [
        {
          "output_type": "execute_result",
          "data": {
            "text/plain": [
              "             obj_ID       alpha      delta  Ultraviolet Filter  Green Filter  \\\n",
              "0      1.237661e+18  135.689107  32.494632            23.87882      22.27530   \n",
              "1      1.237665e+18  144.826101  31.274185            24.77759      22.83188   \n",
              "2      1.237661e+18  142.188790  35.582444            25.26307      22.66389   \n",
              "3      1.237663e+18  338.741038  -0.402828            22.13682      23.77656   \n",
              "4      1.237680e+18  345.282593  21.183866            19.43718      17.58028   \n",
              "...             ...         ...        ...                 ...           ...   \n",
              "43797  1.237659e+18  201.624727   6.578219            20.98239      18.84827   \n",
              "43798  1.237679e+18  325.211753   2.045357            20.85815      20.65278   \n",
              "43799  1.237661e+18  202.717281  45.848246            23.46482      22.33689   \n",
              "43800  1.237661e+18  115.883288  20.052520            23.58445      22.85084   \n",
              "43801  1.237663e+18  319.852246   0.043314            25.93974      22.98193   \n",
              "\n",
              "       Red Filter  Near Infared Filter  Infared Filter  run_ID  rerun_ID  \\\n",
              "0        20.39501             19.16573        18.79371    3606       301   \n",
              "1        22.58444             21.16812        21.61427    4518       301   \n",
              "2        20.60976             19.34857        18.94827    3606       301   \n",
              "3        21.61162             20.50454        19.25010    4192       301   \n",
              "4        16.49747             15.97711        15.54461    8102       301   \n",
              "...           ...                  ...             ...     ...       ...   \n",
              "43797    17.68662             17.23599        16.88903    3230       301   \n",
              "43798    20.43727             20.36541        20.16899    7717       301   \n",
              "43799    20.90505             19.86001        19.24836    3699       301   \n",
              "43800    22.56028             21.89615        23.57576    3605       301   \n",
              "43801    21.14848             20.04206        19.55464    4187       301   \n",
              "\n",
              "       cam_col  field_ID   spec_obj_ID   class  redshift  plate    MJD  \\\n",
              "0            2        79  6.543777e+18  GALAXY  0.634794   5812  56354   \n",
              "1            5       119  1.176014e+19  GALAXY  0.779136  10445  58158   \n",
              "2            2       120  5.152200e+18  GALAXY  0.644195   4576  55592   \n",
              "3            3       214  1.030107e+19  GALAXY  0.932346   9149  58039   \n",
              "4            3       137  6.891865e+18  GALAXY  0.116123   6121  56187   \n",
              "...        ...       ...           ...     ...       ...    ...    ...   \n",
              "43797        2        27  2.025522e+18  GALAXY  0.160690   1799  53556   \n",
              "43798        4        97  1.031689e+19     QSO  1.428801   9163  58043   \n",
              "43799        3       103  7.461520e+18  GALAXY  0.588259   6627  56369   \n",
              "43800        4        39  1.008138e+19  GALAXY  0.951026   8954  57453   \n",
              "43801        4        81  4.719827e+18  GALAXY  0.583423   4192  55469   \n",
              "\n",
              "       fiber_ID  \n",
              "0           171  \n",
              "1           427  \n",
              "2           299  \n",
              "3           775  \n",
              "4           842  \n",
              "...         ...  \n",
              "43797       101  \n",
              "43798       968  \n",
              "43799       661  \n",
              "43800       261  \n",
              "43801       200  \n",
              "\n",
              "[43802 rows x 18 columns]"
            ],
            "text/html": [
              "\n",
              "  <div id=\"df-54a3e654-64d5-438f-8f0d-e289adb45f20\">\n",
              "    <div class=\"colab-df-container\">\n",
              "      <div>\n",
              "<style scoped>\n",
              "    .dataframe tbody tr th:only-of-type {\n",
              "        vertical-align: middle;\n",
              "    }\n",
              "\n",
              "    .dataframe tbody tr th {\n",
              "        vertical-align: top;\n",
              "    }\n",
              "\n",
              "    .dataframe thead th {\n",
              "        text-align: right;\n",
              "    }\n",
              "</style>\n",
              "<table border=\"1\" class=\"dataframe\">\n",
              "  <thead>\n",
              "    <tr style=\"text-align: right;\">\n",
              "      <th></th>\n",
              "      <th>obj_ID</th>\n",
              "      <th>alpha</th>\n",
              "      <th>delta</th>\n",
              "      <th>Ultraviolet Filter</th>\n",
              "      <th>Green Filter</th>\n",
              "      <th>Red Filter</th>\n",
              "      <th>Near Infared Filter</th>\n",
              "      <th>Infared Filter</th>\n",
              "      <th>run_ID</th>\n",
              "      <th>rerun_ID</th>\n",
              "      <th>cam_col</th>\n",
              "      <th>field_ID</th>\n",
              "      <th>spec_obj_ID</th>\n",
              "      <th>class</th>\n",
              "      <th>redshift</th>\n",
              "      <th>plate</th>\n",
              "      <th>MJD</th>\n",
              "      <th>fiber_ID</th>\n",
              "    </tr>\n",
              "  </thead>\n",
              "  <tbody>\n",
              "    <tr>\n",
              "      <th>0</th>\n",
              "      <td>1.237661e+18</td>\n",
              "      <td>135.689107</td>\n",
              "      <td>32.494632</td>\n",
              "      <td>23.87882</td>\n",
              "      <td>22.27530</td>\n",
              "      <td>20.39501</td>\n",
              "      <td>19.16573</td>\n",
              "      <td>18.79371</td>\n",
              "      <td>3606</td>\n",
              "      <td>301</td>\n",
              "      <td>2</td>\n",
              "      <td>79</td>\n",
              "      <td>6.543777e+18</td>\n",
              "      <td>GALAXY</td>\n",
              "      <td>0.634794</td>\n",
              "      <td>5812</td>\n",
              "      <td>56354</td>\n",
              "      <td>171</td>\n",
              "    </tr>\n",
              "    <tr>\n",
              "      <th>1</th>\n",
              "      <td>1.237665e+18</td>\n",
              "      <td>144.826101</td>\n",
              "      <td>31.274185</td>\n",
              "      <td>24.77759</td>\n",
              "      <td>22.83188</td>\n",
              "      <td>22.58444</td>\n",
              "      <td>21.16812</td>\n",
              "      <td>21.61427</td>\n",
              "      <td>4518</td>\n",
              "      <td>301</td>\n",
              "      <td>5</td>\n",
              "      <td>119</td>\n",
              "      <td>1.176014e+19</td>\n",
              "      <td>GALAXY</td>\n",
              "      <td>0.779136</td>\n",
              "      <td>10445</td>\n",
              "      <td>58158</td>\n",
              "      <td>427</td>\n",
              "    </tr>\n",
              "    <tr>\n",
              "      <th>2</th>\n",
              "      <td>1.237661e+18</td>\n",
              "      <td>142.188790</td>\n",
              "      <td>35.582444</td>\n",
              "      <td>25.26307</td>\n",
              "      <td>22.66389</td>\n",
              "      <td>20.60976</td>\n",
              "      <td>19.34857</td>\n",
              "      <td>18.94827</td>\n",
              "      <td>3606</td>\n",
              "      <td>301</td>\n",
              "      <td>2</td>\n",
              "      <td>120</td>\n",
              "      <td>5.152200e+18</td>\n",
              "      <td>GALAXY</td>\n",
              "      <td>0.644195</td>\n",
              "      <td>4576</td>\n",
              "      <td>55592</td>\n",
              "      <td>299</td>\n",
              "    </tr>\n",
              "    <tr>\n",
              "      <th>3</th>\n",
              "      <td>1.237663e+18</td>\n",
              "      <td>338.741038</td>\n",
              "      <td>-0.402828</td>\n",
              "      <td>22.13682</td>\n",
              "      <td>23.77656</td>\n",
              "      <td>21.61162</td>\n",
              "      <td>20.50454</td>\n",
              "      <td>19.25010</td>\n",
              "      <td>4192</td>\n",
              "      <td>301</td>\n",
              "      <td>3</td>\n",
              "      <td>214</td>\n",
              "      <td>1.030107e+19</td>\n",
              "      <td>GALAXY</td>\n",
              "      <td>0.932346</td>\n",
              "      <td>9149</td>\n",
              "      <td>58039</td>\n",
              "      <td>775</td>\n",
              "    </tr>\n",
              "    <tr>\n",
              "      <th>4</th>\n",
              "      <td>1.237680e+18</td>\n",
              "      <td>345.282593</td>\n",
              "      <td>21.183866</td>\n",
              "      <td>19.43718</td>\n",
              "      <td>17.58028</td>\n",
              "      <td>16.49747</td>\n",
              "      <td>15.97711</td>\n",
              "      <td>15.54461</td>\n",
              "      <td>8102</td>\n",
              "      <td>301</td>\n",
              "      <td>3</td>\n",
              "      <td>137</td>\n",
              "      <td>6.891865e+18</td>\n",
              "      <td>GALAXY</td>\n",
              "      <td>0.116123</td>\n",
              "      <td>6121</td>\n",
              "      <td>56187</td>\n",
              "      <td>842</td>\n",
              "    </tr>\n",
              "    <tr>\n",
              "      <th>...</th>\n",
              "      <td>...</td>\n",
              "      <td>...</td>\n",
              "      <td>...</td>\n",
              "      <td>...</td>\n",
              "      <td>...</td>\n",
              "      <td>...</td>\n",
              "      <td>...</td>\n",
              "      <td>...</td>\n",
              "      <td>...</td>\n",
              "      <td>...</td>\n",
              "      <td>...</td>\n",
              "      <td>...</td>\n",
              "      <td>...</td>\n",
              "      <td>...</td>\n",
              "      <td>...</td>\n",
              "      <td>...</td>\n",
              "      <td>...</td>\n",
              "      <td>...</td>\n",
              "    </tr>\n",
              "    <tr>\n",
              "      <th>43797</th>\n",
              "      <td>1.237659e+18</td>\n",
              "      <td>201.624727</td>\n",
              "      <td>6.578219</td>\n",
              "      <td>20.98239</td>\n",
              "      <td>18.84827</td>\n",
              "      <td>17.68662</td>\n",
              "      <td>17.23599</td>\n",
              "      <td>16.88903</td>\n",
              "      <td>3230</td>\n",
              "      <td>301</td>\n",
              "      <td>2</td>\n",
              "      <td>27</td>\n",
              "      <td>2.025522e+18</td>\n",
              "      <td>GALAXY</td>\n",
              "      <td>0.160690</td>\n",
              "      <td>1799</td>\n",
              "      <td>53556</td>\n",
              "      <td>101</td>\n",
              "    </tr>\n",
              "    <tr>\n",
              "      <th>43798</th>\n",
              "      <td>1.237679e+18</td>\n",
              "      <td>325.211753</td>\n",
              "      <td>2.045357</td>\n",
              "      <td>20.85815</td>\n",
              "      <td>20.65278</td>\n",
              "      <td>20.43727</td>\n",
              "      <td>20.36541</td>\n",
              "      <td>20.16899</td>\n",
              "      <td>7717</td>\n",
              "      <td>301</td>\n",
              "      <td>4</td>\n",
              "      <td>97</td>\n",
              "      <td>1.031689e+19</td>\n",
              "      <td>QSO</td>\n",
              "      <td>1.428801</td>\n",
              "      <td>9163</td>\n",
              "      <td>58043</td>\n",
              "      <td>968</td>\n",
              "    </tr>\n",
              "    <tr>\n",
              "      <th>43799</th>\n",
              "      <td>1.237661e+18</td>\n",
              "      <td>202.717281</td>\n",
              "      <td>45.848246</td>\n",
              "      <td>23.46482</td>\n",
              "      <td>22.33689</td>\n",
              "      <td>20.90505</td>\n",
              "      <td>19.86001</td>\n",
              "      <td>19.24836</td>\n",
              "      <td>3699</td>\n",
              "      <td>301</td>\n",
              "      <td>3</td>\n",
              "      <td>103</td>\n",
              "      <td>7.461520e+18</td>\n",
              "      <td>GALAXY</td>\n",
              "      <td>0.588259</td>\n",
              "      <td>6627</td>\n",
              "      <td>56369</td>\n",
              "      <td>661</td>\n",
              "    </tr>\n",
              "    <tr>\n",
              "      <th>43800</th>\n",
              "      <td>1.237661e+18</td>\n",
              "      <td>115.883288</td>\n",
              "      <td>20.052520</td>\n",
              "      <td>23.58445</td>\n",
              "      <td>22.85084</td>\n",
              "      <td>22.56028</td>\n",
              "      <td>21.89615</td>\n",
              "      <td>23.57576</td>\n",
              "      <td>3605</td>\n",
              "      <td>301</td>\n",
              "      <td>4</td>\n",
              "      <td>39</td>\n",
              "      <td>1.008138e+19</td>\n",
              "      <td>GALAXY</td>\n",
              "      <td>0.951026</td>\n",
              "      <td>8954</td>\n",
              "      <td>57453</td>\n",
              "      <td>261</td>\n",
              "    </tr>\n",
              "    <tr>\n",
              "      <th>43801</th>\n",
              "      <td>1.237663e+18</td>\n",
              "      <td>319.852246</td>\n",
              "      <td>0.043314</td>\n",
              "      <td>25.93974</td>\n",
              "      <td>22.98193</td>\n",
              "      <td>21.14848</td>\n",
              "      <td>20.04206</td>\n",
              "      <td>19.55464</td>\n",
              "      <td>4187</td>\n",
              "      <td>301</td>\n",
              "      <td>4</td>\n",
              "      <td>81</td>\n",
              "      <td>4.719827e+18</td>\n",
              "      <td>GALAXY</td>\n",
              "      <td>0.583423</td>\n",
              "      <td>4192</td>\n",
              "      <td>55469</td>\n",
              "      <td>200</td>\n",
              "    </tr>\n",
              "  </tbody>\n",
              "</table>\n",
              "<p>43802 rows × 18 columns</p>\n",
              "</div>\n",
              "      <button class=\"colab-df-convert\" onclick=\"convertToInteractive('df-54a3e654-64d5-438f-8f0d-e289adb45f20')\"\n",
              "              title=\"Convert this dataframe to an interactive table.\"\n",
              "              style=\"display:none;\">\n",
              "        \n",
              "  <svg xmlns=\"http://www.w3.org/2000/svg\" height=\"24px\"viewBox=\"0 0 24 24\"\n",
              "       width=\"24px\">\n",
              "    <path d=\"M0 0h24v24H0V0z\" fill=\"none\"/>\n",
              "    <path d=\"M18.56 5.44l.94 2.06.94-2.06 2.06-.94-2.06-.94-.94-2.06-.94 2.06-2.06.94zm-11 1L8.5 8.5l.94-2.06 2.06-.94-2.06-.94L8.5 2.5l-.94 2.06-2.06.94zm10 10l.94 2.06.94-2.06 2.06-.94-2.06-.94-.94-2.06-.94 2.06-2.06.94z\"/><path d=\"M17.41 7.96l-1.37-1.37c-.4-.4-.92-.59-1.43-.59-.52 0-1.04.2-1.43.59L10.3 9.45l-7.72 7.72c-.78.78-.78 2.05 0 2.83L4 21.41c.39.39.9.59 1.41.59.51 0 1.02-.2 1.41-.59l7.78-7.78 2.81-2.81c.8-.78.8-2.07 0-2.86zM5.41 20L4 18.59l7.72-7.72 1.47 1.35L5.41 20z\"/>\n",
              "  </svg>\n",
              "      </button>\n",
              "      \n",
              "  <style>\n",
              "    .colab-df-container {\n",
              "      display:flex;\n",
              "      flex-wrap:wrap;\n",
              "      gap: 12px;\n",
              "    }\n",
              "\n",
              "    .colab-df-convert {\n",
              "      background-color: #E8F0FE;\n",
              "      border: none;\n",
              "      border-radius: 50%;\n",
              "      cursor: pointer;\n",
              "      display: none;\n",
              "      fill: #1967D2;\n",
              "      height: 32px;\n",
              "      padding: 0 0 0 0;\n",
              "      width: 32px;\n",
              "    }\n",
              "\n",
              "    .colab-df-convert:hover {\n",
              "      background-color: #E2EBFA;\n",
              "      box-shadow: 0px 1px 2px rgba(60, 64, 67, 0.3), 0px 1px 3px 1px rgba(60, 64, 67, 0.15);\n",
              "      fill: #174EA6;\n",
              "    }\n",
              "\n",
              "    [theme=dark] .colab-df-convert {\n",
              "      background-color: #3B4455;\n",
              "      fill: #D2E3FC;\n",
              "    }\n",
              "\n",
              "    [theme=dark] .colab-df-convert:hover {\n",
              "      background-color: #434B5C;\n",
              "      box-shadow: 0px 1px 3px 1px rgba(0, 0, 0, 0.15);\n",
              "      filter: drop-shadow(0px 1px 2px rgba(0, 0, 0, 0.3));\n",
              "      fill: #FFFFFF;\n",
              "    }\n",
              "  </style>\n",
              "\n",
              "      <script>\n",
              "        const buttonEl =\n",
              "          document.querySelector('#df-54a3e654-64d5-438f-8f0d-e289adb45f20 button.colab-df-convert');\n",
              "        buttonEl.style.display =\n",
              "          google.colab.kernel.accessAllowed ? 'block' : 'none';\n",
              "\n",
              "        async function convertToInteractive(key) {\n",
              "          const element = document.querySelector('#df-54a3e654-64d5-438f-8f0d-e289adb45f20');\n",
              "          const dataTable =\n",
              "            await google.colab.kernel.invokeFunction('convertToInteractive',\n",
              "                                                     [key], {});\n",
              "          if (!dataTable) return;\n",
              "\n",
              "          const docLinkHtml = 'Like what you see? Visit the ' +\n",
              "            '<a target=\"_blank\" href=https://colab.research.google.com/notebooks/data_table.ipynb>data table notebook</a>'\n",
              "            + ' to learn more about interactive tables.';\n",
              "          element.innerHTML = '';\n",
              "          dataTable['output_type'] = 'display_data';\n",
              "          await google.colab.output.renderOutput(dataTable, element);\n",
              "          const docLink = document.createElement('div');\n",
              "          docLink.innerHTML = docLinkHtml;\n",
              "          element.appendChild(docLink);\n",
              "        }\n",
              "      </script>\n",
              "    </div>\n",
              "  </div>\n",
              "  "
            ]
          },
          "metadata": {},
          "execution_count": 5
        }
      ],
      "source": [
        "new = df.rename(columns={'u':'Ultraviolet Filter', 'g': 'Green Filter', 'r': 'Red Filter', 'z': 'Infared Filter', 'i': 'Near Infared Filter'})\n",
        "new"
      ],
      "id": "bdee5878-2318-489b-bb20-789b019c256f"
    },
    {
      "cell_type": "code",
      "execution_count": 6,
      "metadata": {
        "id": "ea476318-fc8f-43e8-b1ba-629f135f2454"
      },
      "outputs": [],
      "source": [
        "lst = []\n",
        "for change in range(len(new['class'])):\n",
        "    if new['class'][change] == 'GALAXY':\n",
        "        lst.append(1)\n",
        "    elif new['class'][change] == 'QSO':\n",
        "        lst.append(0)\n",
        "    elif new['class'][change] == 'STAR':\n",
        "        lst.append(2)\n",
        "    else:\n",
        "        lst.append(new['class'][change])\n",
        "new['class'] = lst"
      ],
      "id": "ea476318-fc8f-43e8-b1ba-629f135f2454"
    },
    {
      "cell_type": "code",
      "execution_count": 7,
      "metadata": {
        "colab": {
          "base_uri": "https://localhost:8080/",
          "height": 279
        },
        "id": "fe5efa70-ceb3-41a9-9494-26a5f1f545ae",
        "outputId": "64be4160-dc14-4212-fd88-ddfda35221da"
      },
      "outputs": [
        {
          "output_type": "display_data",
          "data": {
            "text/plain": [
              "<Figure size 432x288 with 1 Axes>"
            ],
            "image/png": "[encoded data removed]"
          },
          "metadata": {
            "needs_background": "light"
          }
        }
      ],
      "source": [
        "sns.barplot(x=\"class\", y=\"Ultraviolet Filter\", ci = None, data=new);"
      ],
      "id": "fe5efa70-ceb3-41a9-9494-26a5f1f545ae"
    },
    {
      "cell_type": "code",
      "execution_count": 8,
      "metadata": {
        "colab": {
          "base_uri": "https://localhost:8080/",
          "height": 279
        },
        "id": "7b3ec1c5-15ca-4344-8cd7-ffbae3065795",
        "outputId": "ec4fac47-d929-4e0f-eebd-71962b51551f"
      },
      "outputs": [
        {
          "output_type": "display_data",
          "data": {
            "text/plain": [
              "<Figure size 432x288 with 1 Axes>"
            ],
            "image/png": "[encoded data removed]"
          },
          "metadata": {
            "needs_background": "light"
          }
        }
      ],
      "source": [
        "sns.barplot(x=\"class\", y=\"Green Filter\", ci = None, data=new);"
      ],
      "id": "7b3ec1c5-15ca-4344-8cd7-ffbae3065795"
    },
    {
      "cell_type": "code",
      "execution_count": 9,
      "metadata": {
        "colab": {
          "base_uri": "https://localhost:8080/",
          "height": 279
        },
        "id": "6505c0ea-2f37-4f24-b6d4-3c21e8c70d01",
        "outputId": "79336377-4a7a-49cd-b682-224ebe0f4ce4"
      },
      "outputs": [
        {
          "output_type": "display_data",
          "data": {
            "text/plain": [
              "<Figure size 432x288 with 1 Axes>"
            ],
            "image/png": "[encoded data removed]"
          },
          "metadata": {
            "needs_background": "light"
          }
        }
      ],
      "source": [
        "sns.barplot(x=\"class\", y=\"Red Filter\", ci = None, data=new);"
      ],
      "id": "6505c0ea-2f37-4f24-b6d4-3c21e8c70d01"
    },
    {
      "cell_type": "code",
      "execution_count": 10,
      "metadata": {
        "colab": {
          "base_uri": "https://localhost:8080/",
          "height": 279
        },
        "id": "e87561ca-7f66-4bd3-b96d-72d2f6564d60",
        "outputId": "b6994fcf-55dc-4c6c-8a0e-4bdda0cc4de8"
      },
      "outputs": [
        {
          "output_type": "display_data",
          "data": {
            "text/plain": [
              "<Figure size 432x288 with 1 Axes>"
            ],
            "image/png": "[encoded data removed]"
          },
          "metadata": {
            "needs_background": "light"
          }
        }
      ],
      "source": [
        "sns.barplot(x=\"class\", y=\"Near Infared Filter\", ci = None, data=new);"
      ],
      "id": "e87561ca-7f66-4bd3-b96d-72d2f6564d60"
    },
    {
      "cell_type": "code",
      "execution_count": 11,
      "metadata": {
        "colab": {
          "base_uri": "https://localhost:8080/",
          "height": 279
        },
        "id": "f767b244-83f4-4e7f-9c16-052fd981ed89",
        "outputId": "08d98233-709f-4388-a20d-6b7b5f1cf194"
      },
      "outputs": [
        {
          "output_type": "display_data",
          "data": {
            "text/plain": [
              "<Figure size 432x288 with 1 Axes>"
            ],
            "image/png": "[encoded data removed]"
          },
          "metadata": {
            "needs_background": "light"
          }
        }
      ],
      "source": [
        "sns.barplot(x=\"class\", y=\"redshift\", ci = None, data=new);"
      ],
      "id": "f767b244-83f4-4e7f-9c16-052fd981ed89"
    },
    {
      "cell_type": "code",
      "execution_count": 12,
      "metadata": {
        "colab": {
          "base_uri": "https://localhost:8080/",
          "height": 279
        },
        "id": "fd2c3217-3c3c-4e25-a437-bd3aa2c863ca",
        "outputId": "b56e2458-5834-476b-99bb-6c18f42a01e0"
      },
      "outputs": [
        {
          "output_type": "display_data",
          "data": {
            "text/plain": [
              "<Figure size 432x288 with 1 Axes>"
            ],
            "image/png": "[encoded data removed]"
          },
          "metadata": {
            "needs_background": "light"
          }
        }
      ],
      "source": [
        "sns.barplot(x=\"class\", y=\"plate\", ci = None, data=new);"
      ],
      "id": "fd2c3217-3c3c-4e25-a437-bd3aa2c863ca"
    },
    {
      "cell_type": "code",
      "execution_count": 13,
      "metadata": {
        "colab": {
          "base_uri": "https://localhost:8080/",
          "height": 279
        },
        "id": "53322c28-7240-4824-bacf-129c1551374e",
        "outputId": "2cf4311b-8d5b-4588-cce3-f469c63c8751"
      },
      "outputs": [
        {
          "output_type": "display_data",
          "data": {
            "text/plain": [
              "<Figure size 432x288 with 1 Axes>"
            ],
            "image/png": "[encoded data removed]"
          },
          "metadata": {
            "needs_background": "light"
          }
        }
      ],
      "source": [
        "sns.barplot(x=\"class\", y=\"alpha\", ci = None, data=new);"
      ],
      "id": "53322c28-7240-4824-bacf-129c1551374e"
    },
    {
      "cell_type": "code",
      "execution_count": 14,
      "metadata": {
        "colab": {
          "base_uri": "https://localhost:8080/",
          "height": 279
        },
        "id": "a7b4e865-e89b-4540-b7f3-e60336d1158c",
        "outputId": "fff164e7-3049-48a5-9ed4-680da83618a6"
      },
      "outputs": [
        {
          "output_type": "display_data",
          "data": {
            "text/plain": [
              "<Figure size 432x288 with 1 Axes>"
            ],
            "image/png": "[encoded data removed]"
          },
          "metadata": {
            "needs_background": "light"
          }
        }
      ],
      "source": [
        "sns.barplot(x=\"class\", y=\"delta\", ci = None, data=new);"
      ],
      "id": "a7b4e865-e89b-4540-b7f3-e60336d1158c"
    },
    {
      "cell_type": "code",
      "execution_count": 15,
      "metadata": {
        "colab": {
          "base_uri": "https://localhost:8080/",
          "height": 364
        },
        "id": "20e0a076-205d-4894-905e-4f270753fcd9",
        "outputId": "71d9ae29-1140-4a0f-ed66-0da6a7692c4c"
      },
      "outputs": [
        {
          "output_type": "execute_result",
          "data": {
            "text/plain": [
              "             obj_ID         alpha         delta             u             g  \\\n",
              "count  4.380200e+04  43802.000000  43802.000000  43802.000000  43802.000000   \n",
              "mean   1.237665e+18    179.463505     23.415373     22.092604     20.645961   \n",
              "std    8.499295e+12     96.957526     19.583455      2.237113      2.022190   \n",
              "min    1.237646e+18      0.005528    -16.847136     12.262400     10.511390   \n",
              "25%    1.237659e+18    127.410635      3.716461     20.369982     19.016785   \n",
              "50%    1.237664e+18    179.270563     21.993519     22.185675     21.090330   \n",
              "75%    1.237670e+18    235.914307     39.317359     23.690368     22.124820   \n",
              "max    1.237681e+18    359.999810     83.000519     30.660390     31.602240   \n",
              "\n",
              "                  r             i             z        run_ID  rerun_ID  \\\n",
              "count  43802.000000  43802.000000  43802.000000  43802.000000   43802.0   \n",
              "mean      19.665040     19.107188     18.794944   4488.844345     301.0   \n",
              "std        1.839742      1.745047      1.758315   1978.915833       0.0   \n",
              "min        9.822070      9.469903      9.612333    109.000000     301.0   \n",
              "25%       18.189380     17.789413     17.519683   3180.000000     301.0   \n",
              "50%       20.124585     19.413100     19.018355   4263.000000     301.0   \n",
              "75%       21.045230     20.409900     19.931325   5641.000000     301.0   \n",
              "max       29.374110     30.250090     28.238290   8162.000000     301.0   \n",
              "\n",
              "            cam_col      field_ID   spec_obj_ID      redshift         plate  \\\n",
              "count  43802.000000  43802.000000  4.380200e+04  43802.000000  43802.000000   \n",
              "mean       3.593694    190.555523  5.743261e+18      0.575418   5100.929752   \n",
              "std        1.555558    151.943640  3.320854e+18      0.732163   2949.496139   \n",
              "min        1.000000     11.000000  2.995793e+17     -0.006863    266.000000   \n",
              "25%        2.000000     85.000000  2.837297e+18      0.050728   2520.000000   \n",
              "50%        4.000000    153.000000  5.604787e+18      0.420003   4978.000000   \n",
              "75%        5.000000    244.000000  8.254154e+18      0.707996   7331.000000   \n",
              "max        6.000000    941.000000  1.412685e+19      7.011245  12547.000000   \n",
              "\n",
              "                MJD      fiber_ID  \n",
              "count  43802.000000  43802.000000  \n",
              "mean   55563.303411    453.717182  \n",
              "std     1811.640022    268.803208  \n",
              "min    51608.000000      1.000000  \n",
              "25%    54205.000000    231.000000  \n",
              "50%    55865.000000    441.000000  \n",
              "75%    56748.000000    640.000000  \n",
              "max    58932.000000   1000.000000  "
            ],
            "text/html": [
              "\n",
              "  <div id=\"df-8a366cc3-e857-4bbd-abb6-6c849b05dc26\">\n",
              "    <div class=\"colab-df-container\">\n",
              "      <div>\n",
              "<style scoped>\n",
              "    .dataframe tbody tr th:only-of-type {\n",
              "        vertical-align: middle;\n",
              "    }\n",
              "\n",
              "    .dataframe tbody tr th {\n",
              "        vertical-align: top;\n",
              "    }\n",
              "\n",
              "    .dataframe thead th {\n",
              "        text-align: right;\n",
              "    }\n",
              "</style>\n",
              "<table border=\"1\" class=\"dataframe\">\n",
              "  <thead>\n",
              "    <tr style=\"text-align: right;\">\n",
              "      <th></th>\n",
              "      <th>obj_ID</th>\n",
              "      <th>alpha</th>\n",
              "      <th>delta</th>\n",
              "      <th>u</th>\n",
              "      <th>g</th>\n",
              "      <th>r</th>\n",
              "      <th>i</th>\n",
              "      <th>z</th>\n",
              "      <th>run_ID</th>\n",
              "      <th>rerun_ID</th>\n",
              "      <th>cam_col</th>\n",
              "      <th>field_ID</th>\n",
              "      <th>spec_obj_ID</th>\n",
              "      <th>redshift</th>\n",
              "      <th>plate</th>\n",
              "      <th>MJD</th>\n",
              "      <th>fiber_ID</th>\n",
              "    </tr>\n",
              "  </thead>\n",
              "  <tbody>\n",
              "    <tr>\n",
              "      <th>count</th>\n",
              "      <td>4.380200e+04</td>\n",
              "      <td>43802.000000</td>\n",
              "      <td>43802.000000</td>\n",
              "      <td>43802.000000</td>\n",
              "      <td>43802.000000</td>\n",
              "      <td>43802.000000</td>\n",
              "      <td>43802.000000</td>\n",
              "      <td>43802.000000</td>\n",
              "      <td>43802.000000</td>\n",
              "      <td>43802.0</td>\n",
              "      <td>43802.000000</td>\n",
              "      <td>43802.000000</td>\n",
              "      <td>4.380200e+04</td>\n",
              "      <td>43802.000000</td>\n",
              "      <td>43802.000000</td>\n",
              "      <td>43802.000000</td>\n",
              "      <td>43802.000000</td>\n",
              "    </tr>\n",
              "    <tr>\n",
              "      <th>mean</th>\n",
              "      <td>1.237665e+18</td>\n",
              "      <td>179.463505</td>\n",
              "      <td>23.415373</td>\n",
              "      <td>22.092604</td>\n",
              "      <td>20.645961</td>\n",
              "      <td>19.665040</td>\n",
              "      <td>19.107188</td>\n",
              "      <td>18.794944</td>\n",
              "      <td>4488.844345</td>\n",
              "      <td>301.0</td>\n",
              "      <td>3.593694</td>\n",
              "      <td>190.555523</td>\n",
              "      <td>5.743261e+18</td>\n",
              "      <td>0.575418</td>\n",
              "      <td>5100.929752</td>\n",
              "      <td>55563.303411</td>\n",
              "      <td>453.717182</td>\n",
              "    </tr>\n",
              "    <tr>\n",
              "      <th>std</th>\n",
              "      <td>8.499295e+12</td>\n",
              "      <td>96.957526</td>\n",
              "      <td>19.583455</td>\n",
              "      <td>2.237113</td>\n",
              "      <td>2.022190</td>\n",
              "      <td>1.839742</td>\n",
              "      <td>1.745047</td>\n",
              "      <td>1.758315</td>\n",
              "      <td>1978.915833</td>\n",
              "      <td>0.0</td>\n",
              "      <td>1.555558</td>\n",
              "      <td>151.943640</td>\n",
              "      <td>3.320854e+18</td>\n",
              "      <td>0.732163</td>\n",
              "      <td>2949.496139</td>\n",
              "      <td>1811.640022</td>\n",
              "      <td>268.803208</td>\n",
              "    </tr>\n",
              "    <tr>\n",
              "      <th>min</th>\n",
              "      <td>1.237646e+18</td>\n",
              "      <td>0.005528</td>\n",
              "      <td>-16.847136</td>\n",
              "      <td>12.262400</td>\n",
              "      <td>10.511390</td>\n",
              "      <td>9.822070</td>\n",
              "      <td>9.469903</td>\n",
              "      <td>9.612333</td>\n",
              "      <td>109.000000</td>\n",
              "      <td>301.0</td>\n",
              "      <td>1.000000</td>\n",
              "      <td>11.000000</td>\n",
              "      <td>2.995793e+17</td>\n",
              "      <td>-0.006863</td>\n",
              "      <td>266.000000</td>\n",
              "      <td>51608.000000</td>\n",
              "      <td>1.000000</td>\n",
              "    </tr>\n",
              "    <tr>\n",
              "      <th>25%</th>\n",
              "      <td>1.237659e+18</td>\n",
              "      <td>127.410635</td>\n",
              "      <td>3.716461</td>\n",
              "      <td>20.369982</td>\n",
              "      <td>19.016785</td>\n",
              "      <td>18.189380</td>\n",
              "      <td>17.789413</td>\n",
              "      <td>17.519683</td>\n",
              "      <td>3180.000000</td>\n",
              "      <td>301.0</td>\n",
              "      <td>2.000000</td>\n",
              "      <td>85.000000</td>\n",
              "      <td>2.837297e+18</td>\n",
              "      <td>0.050728</td>\n",
              "      <td>2520.000000</td>\n",
              "      <td>54205.000000</td>\n",
              "      <td>231.000000</td>\n",
              "    </tr>\n",
              "    <tr>\n",
              "      <th>50%</th>\n",
              "      <td>1.237664e+18</td>\n",
              "      <td>179.270563</td>\n",
              "      <td>21.993519</td>\n",
              "      <td>22.185675</td>\n",
              "      <td>21.090330</td>\n",
              "      <td>20.124585</td>\n",
              "      <td>19.413100</td>\n",
              "      <td>19.018355</td>\n",
              "      <td>4263.000000</td>\n",
              "      <td>301.0</td>\n",
              "      <td>4.000000</td>\n",
              "      <td>153.000000</td>\n",
              "      <td>5.604787e+18</td>\n",
              "      <td>0.420003</td>\n",
              "      <td>4978.000000</td>\n",
              "      <td>55865.000000</td>\n",
              "      <td>441.000000</td>\n",
              "    </tr>\n",
              "    <tr>\n",
              "      <th>75%</th>\n",
              "      <td>1.237670e+18</td>\n",
              "      <td>235.914307</td>\n",
              "      <td>39.317359</td>\n",
              "      <td>23.690368</td>\n",
              "      <td>22.124820</td>\n",
              "      <td>21.045230</td>\n",
              "      <td>20.409900</td>\n",
              "      <td>19.931325</td>\n",
              "      <td>5641.000000</td>\n",
              "      <td>301.0</td>\n",
              "      <td>5.000000</td>\n",
              "      <td>244.000000</td>\n",
              "      <td>8.254154e+18</td>\n",
              "      <td>0.707996</td>\n",
              "      <td>7331.000000</td>\n",
              "      <td>56748.000000</td>\n",
              "      <td>640.000000</td>\n",
              "    </tr>\n",
              "    <tr>\n",
              "      <th>max</th>\n",
              "      <td>1.237681e+18</td>\n",
              "      <td>359.999810</td>\n",
              "      <td>83.000519</td>\n",
              "      <td>30.660390</td>\n",
              "      <td>31.602240</td>\n",
              "      <td>29.374110</td>\n",
              "      <td>30.250090</td>\n",
              "      <td>28.238290</td>\n",
              "      <td>8162.000000</td>\n",
              "      <td>301.0</td>\n",
              "      <td>6.000000</td>\n",
              "      <td>941.000000</td>\n",
              "      <td>1.412685e+19</td>\n",
              "      <td>7.011245</td>\n",
              "      <td>12547.000000</td>\n",
              "      <td>58932.000000</td>\n",
              "      <td>1000.000000</td>\n",
              "    </tr>\n",
              "  </tbody>\n",
              "</table>\n",
              "</div>\n",
              "      <button class=\"colab-df-convert\" onclick=\"convertToInteractive('df-8a366cc3-e857-4bbd-abb6-6c849b05dc26')\"\n",
              "              title=\"Convert this dataframe to an interactive table.\"\n",
              "              style=\"display:none;\">\n",
              "        \n",
              "  <svg xmlns=\"http://www.w3.org/2000/svg\" height=\"24px\"viewBox=\"0 0 24 24\"\n",
              "       width=\"24px\">\n",
              "    <path d=\"M0 0h24v24H0V0z\" fill=\"none\"/>\n",
              "    <path d=\"M18.56 5.44l.94 2.06.94-2.06 2.06-.94-2.06-.94-.94-2.06-.94 2.06-2.06.94zm-11 1L8.5 8.5l.94-2.06 2.06-.94-2.06-.94L8.5 2.5l-.94 2.06-2.06.94zm10 10l.94 2.06.94-2.06 2.06-.94-2.06-.94-.94-2.06-.94 2.06-2.06.94z\"/><path d=\"M17.41 7.96l-1.37-1.37c-.4-.4-.92-.59-1.43-.59-.52 0-1.04.2-1.43.59L10.3 9.45l-7.72 7.72c-.78.78-.78 2.05 0 2.83L4 21.41c.39.39.9.59 1.41.59.51 0 1.02-.2 1.41-.59l7.78-7.78 2.81-2.81c.8-.78.8-2.07 0-2.86zM5.41 20L4 18.59l7.72-7.72 1.47 1.35L5.41 20z\"/>\n",
              "  </svg>\n",
              "      </button>\n",
              "      \n",
              "  <style>\n",
              "    .colab-df-container {\n",
              "      display:flex;\n",
              "      flex-wrap:wrap;\n",
              "      gap: 12px;\n",
              "    }\n",
              "\n",
              "    .colab-df-convert {\n",
              "      background-color: #E8F0FE;\n",
              "      border: none;\n",
              "      border-radius: 50%;\n",
              "      cursor: pointer;\n",
              "      display: none;\n",
              "      fill: #1967D2;\n",
              "      height: 32px;\n",
              "      padding: 0 0 0 0;\n",
              "      width: 32px;\n",
              "    }\n",
              "\n",
              "    .colab-df-convert:hover {\n",
              "      background-color: #E2EBFA;\n",
              "      box-shadow: 0px 1px 2px rgba(60, 64, 67, 0.3), 0px 1px 3px 1px rgba(60, 64, 67, 0.15);\n",
              "      fill: #174EA6;\n",
              "    }\n",
              "\n",
              "    [theme=dark] .colab-df-convert {\n",
              "      background-color: #3B4455;\n",
              "      fill: #D2E3FC;\n",
              "    }\n",
              "\n",
              "    [theme=dark] .colab-df-convert:hover {\n",
              "      background-color: #434B5C;\n",
              "      box-shadow: 0px 1px 3px 1px rgba(0, 0, 0, 0.15);\n",
              "      filter: drop-shadow(0px 1px 2px rgba(0, 0, 0, 0.3));\n",
              "      fill: #FFFFFF;\n",
              "    }\n",
              "  </style>\n",
              "\n",
              "      <script>\n",
              "        const buttonEl =\n",
              "          document.querySelector('#df-8a366cc3-e857-4bbd-abb6-6c849b05dc26 button.colab-df-convert');\n",
              "        buttonEl.style.display =\n",
              "          google.colab.kernel.accessAllowed ? 'block' : 'none';\n",
              "\n",
              "        async function convertToInteractive(key) {\n",
              "          const element = document.querySelector('#df-8a366cc3-e857-4bbd-abb6-6c849b05dc26');\n",
              "          const dataTable =\n",
              "            await google.colab.kernel.invokeFunction('convertToInteractive',\n",
              "                                                     [key], {});\n",
              "          if (!dataTable) return;\n",
              "\n",
              "          const docLinkHtml = 'Like what you see? Visit the ' +\n",
              "            '<a target=\"_blank\" href=https://colab.research.google.com/notebooks/data_table.ipynb>data table notebook</a>'\n",
              "            + ' to learn more about interactive tables.';\n",
              "          element.innerHTML = '';\n",
              "          dataTable['output_type'] = 'display_data';\n",
              "          await google.colab.output.renderOutput(dataTable, element);\n",
              "          const docLink = document.createElement('div');\n",
              "          docLink.innerHTML = docLinkHtml;\n",
              "          element.appendChild(docLink);\n",
              "        }\n",
              "      </script>\n",
              "    </div>\n",
              "  </div>\n",
              "  "
            ]
          },
          "metadata": {},
          "execution_count": 15
        }
      ],
      "source": [
        "df.describe()"
      ],
      "id": "20e0a076-205d-4894-905e-4f270753fcd9"
    },
    {
      "cell_type": "code",
      "execution_count": 16,
      "metadata": {
        "colab": {
          "base_uri": "https://localhost:8080/",
          "height": 1000
        },
        "id": "c49426c9-bb9d-4cdb-aed2-86c15210cfcd",
        "outputId": "9b34096b-23b6-400c-dbc4-9ca01bc65828"
      },
      "outputs": [
        {
          "output_type": "display_data",
          "data": {
            "text/plain": [
              "<Figure size 432x288 with 1 Axes>"
            ],
            "image/png": "[encoded data removed]"
          },
          "metadata": {
            "needs_background": "light"
          }
        },
        {
          "output_type": "display_data",
          "data": {
            "text/plain": [
              "<Figure size 432x288 with 1 Axes>"
            ],
            "image/png": "[encoded data removed]"
          },
          "metadata": {
            "needs_background": "light"
          }
        },
        {
          "output_type": "display_data",
          "data": {
            "text/plain": [
              "<Figure size 432x288 with 1 Axes>"
            ],
            "image/png": "[encoded data removed]"
          },
          "metadata": {
            "needs_background": "light"
          }
        },
        {
          "output_type": "display_data",
          "data": {
            "text/plain": [
              "<Figure size 432x288 with 1 Axes>"
            ],
            "image/png": "[encoded data removed]"
          },
          "metadata": {
            "needs_background": "light"
          }
        },
        {
          "output_type": "display_data",
          "data": {
            "text/plain": [
              "<Figure size 432x288 with 1 Axes>"
            ],
            "image/png": "[encoded data removed]"
          },
          "metadata": {
            "needs_background": "light"
          }
        },
        {
          "output_type": "display_data",
          "data": {
            "text/plain": [
              "<Figure size 432x288 with 1 Axes>"
            ],
            "image/png": "[encoded data removed]"
          },
          "metadata": {
            "needs_background": "light"
          }
        },
        {
          "output_type": "display_data",
          "data": {
            "text/plain": [
              "<Figure size 432x288 with 1 Axes>"
            ],
            "image/png": "[encoded data removed]"
          },
          "metadata": {
            "needs_background": "light"
          }
        },
        {
          "output_type": "display_data",
          "data": {
            "text/plain": [
              "<Figure size 432x288 with 1 Axes>"
            ],
            "image/png": "[encoded data removed]"
          },
          "metadata": {
            "needs_background": "light"
          }
        },
        {
          "output_type": "display_data",
          "data": {
            "text/plain": [
              "<Figure size 432x288 with 1 Axes>"
            ],
            "image/png": "[encoded data removed]"
          },
          "metadata": {
            "needs_background": "light"
          }
        },
        {
          "output_type": "display_data",
          "data": {
            "text/plain": [
              "<Figure size 432x288 with 1 Axes>"
            ],
            "image/png": "[encoded data removed]"
          },
          "metadata": {
            "needs_background": "light"
          }
        },
        {
          "output_type": "display_data",
          "data": {
            "text/plain": [
              "<Figure size 432x288 with 1 Axes>"
            ],
            "image/png": "[encoded data removed]"
          },
          "metadata": {
            "needs_background": "light"
          }
        },
        {
          "output_type": "display_data",
          "data": {
            "text/plain": [
              "<Figure size 432x288 with 1 Axes>"
            ],
            "image/png": "[encoded data removed]"
          },
          "metadata": {
            "needs_background": "light"
          }
        },
        {
          "output_type": "display_data",
          "data": {
            "text/plain": [
              "<Figure size 432x288 with 1 Axes>"
            ],
            "image/png": "[encoded data removed]"
          },
          "metadata": {
            "needs_background": "light"
          }
        },
        {
          "output_type": "display_data",
          "data": {
            "text/plain": [
              "<Figure size 432x288 with 1 Axes>"
            ],
            "image/png": "[encoded data removed]"
          },
          "metadata": {
            "needs_background": "light"
          }
        },
        {
          "output_type": "display_data",
          "data": {
            "text/plain": [
              "<Figure size 432x288 with 1 Axes>"
            ],
            "image/png": "[encoded data removed]"
          },
          "metadata": {
            "needs_background": "light"
          }
        }
      ],
      "source": [
        "for column in ['alpha', 'delta',  'Green Filter', 'Red Filter', 'Near Infared Filter', 'Infared Filter', 'run_ID', 'rerun_ID', 'cam_col', 'field_ID', 'spec_obj_ID', 'redshift', 'plate', 'MJD', 'fiber_ID']:\n",
        "    plt.boxplot(data = new, x = column)\n",
        "    plt.title(column)\n",
        "    plt.show()"
      ],
      "id": "c49426c9-bb9d-4cdb-aed2-86c15210cfcd"
    },
    {
      "cell_type": "code",
      "execution_count": 17,
      "metadata": {
        "colab": {
          "base_uri": "https://localhost:8080/"
        },
        "id": "fec75167-23aa-41a1-b6c4-3488b41c48e4",
        "outputId": "5ce95032-5695-48f0-fbaa-1151b344b98a"
      },
      "outputs": [
        {
          "output_type": "stream",
          "name": "stdout",
          "text": [
            "0.9206449999999968\n",
            "18.743617500000006\n",
            "19.664262500000007\n"
          ]
        }
      ],
      "source": [
        "Q1 = new['Red Filter'].quantile(.50)\n",
        "Q3 = new['Red Filter'].quantile(.75)\n",
        "\n",
        "IQR = Q3 - Q1\n",
        "print(IQR)\n",
        "Lower_Whisker = Q1 - 1.5*IQR\n",
        "Upper_Whisker = Q3 - 1.5*IQR\n",
        "print(Lower_Whisker)\n",
        "print(Upper_Whisker)"
      ],
      "id": "fec75167-23aa-41a1-b6c4-3488b41c48e4"
    },
    {
      "cell_type": "code",
      "execution_count": 18,
      "metadata": {
        "id": "44a19130-656d-47eb-adca-93e1cc355183"
      },
      "outputs": [],
      "source": [
        "new[\"Red Filter\"] = np.where(new[\"Red Filter\"] > 19.6655425,19.6655425, new[\"Red Filter\"])\n",
        "new[\"Red Filter\"] = np.where(new[\"Red Filter\"] < 18.746047500000003,18.746047500000003, new[\"Red Filter\"])"
      ],
      "id": "44a19130-656d-47eb-adca-93e1cc355183"
    },
    {
      "cell_type": "code",
      "execution_count": 19,
      "metadata": {
        "colab": {
          "base_uri": "https://localhost:8080/"
        },
        "id": "0eafa8df-038a-42e6-942c-5cb61d91f4e0",
        "outputId": "88b0f9b7-e058-4e60-80e9-f4b9cd056862"
      },
      "outputs": [
        {
          "output_type": "stream",
          "name": "stdout",
          "text": [
            "0.9968000000000004\n",
            "17.9179\n",
            "18.9147\n"
          ]
        }
      ],
      "source": [
        "Q1 = new['Near Infared Filter'].quantile(.50)\n",
        "Q3 = new['Near Infared Filter'].quantile(.75)\n",
        "\n",
        "IQR = Q3 - Q1\n",
        "print(IQR)\n",
        "Lower_Whisker = Q1 - 1.5*IQR\n",
        "Upper_Whisker = Q3 - 1.5*IQR\n",
        "print(Lower_Whisker)\n",
        "print(Upper_Whisker)"
      ],
      "id": "0eafa8df-038a-42e6-942c-5cb61d91f4e0"
    },
    {
      "cell_type": "code",
      "execution_count": 20,
      "metadata": {
        "id": "a7bcb760-3459-4cfd-81cc-2ae9c6b94408"
      },
      "outputs": [],
      "source": [
        "new[\"Near Infared Filter\"] = np.where(new[\"Near Infared Filter\"] > 18.909469999999995, 18.909469999999995, new[\"Near Infared Filter\"])\n",
        "new[\"Near Infared Filter\"] = np.where(new[\"Near Infared Filter\"] < 17.91811999999999, 17.91811999999999, new[\"Near Infared Filter\"])"
      ],
      "id": "a7bcb760-3459-4cfd-81cc-2ae9c6b94408"
    },
    {
      "cell_type": "code",
      "execution_count": 21,
      "metadata": {
        "colab": {
          "base_uri": "https://localhost:8080/"
        },
        "id": "3b4c5688-d320-49f3-94ef-7f2af740f6cc",
        "outputId": "5f94d099-5d2b-48e5-bc2e-d54d1f537fad"
      },
      "outputs": [
        {
          "output_type": "stream",
          "name": "stdout",
          "text": [
            "91.0\n",
            "16.5\n",
            "107.5\n"
          ]
        }
      ],
      "source": [
        "Q1 = new['field_ID'].quantile(.50)\n",
        "Q3 = new['field_ID'].quantile(.75)\n",
        "\n",
        "IQR = Q3 - Q1\n",
        "print(IQR)\n",
        "Lower_Whisker = Q1 - 1.5*IQR\n",
        "Upper_Whisker = Q3 - 1.5*IQR\n",
        "print(Lower_Whisker)\n",
        "print(Upper_Whisker)"
      ],
      "id": "3b4c5688-d320-49f3-94ef-7f2af740f6cc"
    },
    {
      "cell_type": "code",
      "execution_count": 22,
      "metadata": {
        "id": "d6b6ecf3-0003-4a5f-885c-a49776288e39"
      },
      "outputs": [],
      "source": [
        "new[\"field_ID\"] = np.where(new[\"field_ID\"] > 98.5, 98.5, new[\"field_ID\"])"
      ],
      "id": "d6b6ecf3-0003-4a5f-885c-a49776288e39"
    },
    {
      "cell_type": "code",
      "execution_count": 23,
      "metadata": {
        "colab": {
          "base_uri": "https://localhost:8080/"
        },
        "id": "7f9db076-0114-4e7e-98b5-f6b3c206414c",
        "outputId": "1be56e70-3df8-4130-f057-58809a1b5774"
      },
      "outputs": [
        {
          "output_type": "stream",
          "name": "stdout",
          "text": [
            "0.287992425\n",
            "-0.011985237499999968\n",
            "0.27600718750000003\n"
          ]
        }
      ],
      "source": [
        "Q1 = new['redshift'].quantile(.50)\n",
        "Q3 = new['redshift'].quantile(.75)\n",
        "\n",
        "IQR = Q3 - Q1\n",
        "print(IQR)\n",
        "Lower_Whisker = Q1 - 1.5*IQR\n",
        "Upper_Whisker = Q3 - 1.5*IQR\n",
        "print(Lower_Whisker)\n",
        "print(Upper_Whisker)"
      ],
      "id": "7f9db076-0114-4e7e-98b5-f6b3c206414c"
    },
    {
      "cell_type": "code",
      "execution_count": 24,
      "metadata": {
        "id": "df2a9bcc-b275-4c31-9022-7d618d30af6f"
      },
      "outputs": [],
      "source": [
        "new[\"redshift\"] = np.where(new[\"redshift\"] > 0.28418271250000005, 0.28418271250000005, new[\"redshift\"])"
      ],
      "id": "df2a9bcc-b275-4c31-9022-7d618d30af6f"
    },
    {
      "cell_type": "code",
      "execution_count": 25,
      "metadata": {
        "colab": {
          "base_uri": "https://localhost:8080/"
        },
        "id": "d80dbe1f-84f2-48b4-821c-3c5fb203c562",
        "outputId": "bc7fd9e0-ea90-499c-907d-751f7cd43dd0"
      },
      "outputs": [
        {
          "output_type": "stream",
          "name": "stdout",
          "text": [
            "1.5046925000000009\n",
            "19.928636249999997\n",
            "21.43332875\n"
          ]
        }
      ],
      "source": [
        "Q1 = new['Ultraviolet Filter'].quantile(.50)\n",
        "Q3 = new['Ultraviolet Filter'].quantile(.75)\n",
        "\n",
        "IQR = Q3 - Q1\n",
        "print(IQR)\n",
        "Lower_Whisker = Q1 - 1.5*IQR\n",
        "Upper_Whisker = Q3 - 1.5*IQR\n",
        "print(Lower_Whisker)\n",
        "print(Upper_Whisker)"
      ],
      "id": "d80dbe1f-84f2-48b4-821c-3c5fb203c562"
    },
    {
      "cell_type": "code",
      "execution_count": 26,
      "metadata": {
        "id": "915278c7-6bce-449f-97be-20abb599c24c"
      },
      "outputs": [],
      "source": [
        "new[\"Ultraviolet Filter\"] = np.where(new[\"Ultraviolet Filter\"] > 19.916677500000002, 19.916677500000002, new[\"Ultraviolet Filter\"])"
      ],
      "id": "915278c7-6bce-449f-97be-20abb599c24c"
    },
    {
      "cell_type": "code",
      "execution_count": 27,
      "metadata": {
        "colab": {
          "base_uri": "https://localhost:8080/"
        },
        "id": "27eea4fc-c076-4bb4-b712-28ee4991bd64",
        "outputId": "7cc1668d-3aa6-45b3-8376-e0f3155a0ea5"
      },
      "outputs": [
        {
          "output_type": "stream",
          "name": "stdout",
          "text": [
            "1.0344899999999981\n",
            "19.538595000000004\n",
            "20.573085000000003\n"
          ]
        }
      ],
      "source": [
        "Q1 = new['Green Filter'].quantile(.50)\n",
        "Q3 = new['Green Filter'].quantile(.75)\n",
        "\n",
        "IQR = Q3 - Q1\n",
        "print(IQR)\n",
        "Lower_Whisker = Q1 - 1.5*IQR\n",
        "Upper_Whisker = Q3 - 1.5*IQR\n",
        "print(Lower_Whisker)\n",
        "print(Upper_Whisker)"
      ],
      "id": "27eea4fc-c076-4bb4-b712-28ee4991bd64"
    },
    {
      "cell_type": "code",
      "execution_count": 28,
      "metadata": {
        "id": "ffd5d191-b82d-43a7-94ba-68eb42dd1f83"
      },
      "outputs": [],
      "source": [
        "new[\"Green Filter\"] = np.where(new[\"Green Filter\"] > 19.563936249999998, 19.563936249999998, new[\"Green Filter\"])"
      ],
      "id": "ffd5d191-b82d-43a7-94ba-68eb42dd1f83"
    },
    {
      "cell_type": "code",
      "execution_count": 29,
      "metadata": {
        "colab": {
          "base_uri": "https://localhost:8080/"
        },
        "id": "ee8f5201-342e-4f4a-9478-da1b3cc252c9",
        "outputId": "74fdff3d-f11c-426d-cc03-fc7fcdfc7660"
      },
      "outputs": [
        {
          "output_type": "stream",
          "name": "stdout",
          "text": [
            "0.9129700000000014\n",
            "17.648899999999998\n",
            "18.56187\n"
          ]
        }
      ],
      "source": [
        "Q1 = new['Infared Filter'].quantile(.50)\n",
        "Q3 = new['Infared Filter'].quantile(.75)\n",
        "\n",
        "IQR = Q3 - Q1\n",
        "print(IQR)\n",
        "Lower_Whisker = Q1 - 1.5*IQR\n",
        "Upper_Whisker = Q3 - 1.5*IQR\n",
        "print(Lower_Whisker)\n",
        "print(Upper_Whisker)"
      ],
      "id": "ee8f5201-342e-4f4a-9478-da1b3cc252c9"
    },
    {
      "cell_type": "code",
      "execution_count": 30,
      "metadata": {
        "id": "724d1e14-7aa6-4278-968c-78085db35c25"
      },
      "outputs": [],
      "source": [
        "new[\"Infared Filter\"] = np.where(new[\"Infared Filter\"] > 17.629807500000005, 17.629807500000005, new[\"Infared Filter\"])"
      ],
      "id": "724d1e14-7aa6-4278-968c-78085db35c25"
    },
    {
      "cell_type": "code",
      "execution_count": 31,
      "metadata": {
        "colab": {
          "base_uri": "https://localhost:8080/"
        },
        "id": "ae5c8381-8296-4049-90ed-f9e076596c9a",
        "outputId": "f14e83cf-714f-43c8-8c7e-1ce3b11caf88"
      },
      "outputs": [
        {
          "output_type": "stream",
          "name": "stdout",
          "text": [
            "0.0\n",
            "98.5\n",
            "98.5\n"
          ]
        }
      ],
      "source": [
        "Q1 = new['field_ID'].quantile(.50)\n",
        "Q3 = new['field_ID'].quantile(.75)\n",
        "\n",
        "IQR = Q3 - Q1\n",
        "print(IQR)\n",
        "Lower_Whisker = Q1 - 1.5*IQR\n",
        "Upper_Whisker = Q3 - 1.5*IQR\n",
        "print(Lower_Whisker)\n",
        "print(Upper_Whisker)"
      ],
      "id": "ae5c8381-8296-4049-90ed-f9e076596c9a"
    },
    {
      "cell_type": "code",
      "execution_count": 32,
      "metadata": {
        "id": "64fae75c-dc67-4729-bfb9-a934a80e5393"
      },
      "outputs": [],
      "source": [
        "new[\"field_ID\"] = np.where(new[\"field_ID\"] > 98.5, 98.5, new[\"field_ID\"])"
      ],
      "id": "64fae75c-dc67-4729-bfb9-a934a80e5393"
    },
    {
      "cell_type": "code",
      "execution_count": 33,
      "metadata": {
        "colab": {
          "base_uri": "https://localhost:8080/",
          "height": 694
        },
        "id": "5b1e1473-57c3-471c-9778-b5d76311b872",
        "outputId": "f49f8525-00a2-46c8-8ba6-51c5c5763105"
      },
      "outputs": [
        {
          "output_type": "execute_result",
          "data": {
            "text/plain": [
              "<matplotlib.axes._subplots.AxesSubplot at 0x7fb4c21be6d0>"
            ]
          },
          "metadata": {},
          "execution_count": 33
        },
        {
          "output_type": "display_data",
          "data": {
            "text/plain": [
              "<Figure size 1080x720 with 2 Axes>"
            ],
            "image/png": "[encoded data removed]"
          },
          "metadata": {
            "needs_background": "light"
          }
        }
      ],
      "source": [
        "plt.figure(figsize=(15, 10))\n",
        "sns.heatmap(new.corr(), annot=True)"
      ],
      "id": "5b1e1473-57c3-471c-9778-b5d76311b872"
    },
    {
      "cell_type": "code",
      "execution_count": 34,
      "metadata": {
        "colab": {
          "base_uri": "https://localhost:8080/",
          "height": 505
        },
        "id": "65a1944a-3289-439c-b387-45f24222060f",
        "outputId": "8e11a62d-40d6-42a1-dcaf-4706b5744346"
      },
      "outputs": [
        {
          "output_type": "execute_result",
          "data": {
            "text/plain": [
              "             obj_ID       alpha      delta  Ultraviolet Filter  Red Filter  \\\n",
              "0      1.237661e+18  135.689107  32.494632           19.916678   19.665543   \n",
              "1      1.237665e+18  144.826101  31.274185           19.916678   19.665543   \n",
              "2      1.237661e+18  142.188790  35.582444           19.916678   19.665543   \n",
              "3      1.237663e+18  338.741038  -0.402828           19.916678   19.665543   \n",
              "4      1.237680e+18  345.282593  21.183866           19.437180   18.746048   \n",
              "...             ...         ...        ...                 ...         ...   \n",
              "43797  1.237659e+18  201.624727   6.578219           19.916678   18.746048   \n",
              "43798  1.237679e+18  325.211753   2.045357           19.916678   19.665543   \n",
              "43799  1.237661e+18  202.717281  45.848246           19.916678   19.665543   \n",
              "43800  1.237661e+18  115.883288  20.052520           19.916678   19.665543   \n",
              "43801  1.237663e+18  319.852246   0.043314           19.916678   19.665543   \n",
              "\n",
              "       Infared Filter  run_ID  rerun_ID  cam_col  field_ID   spec_obj_ID  \\\n",
              "0           17.629808    3606       301        2      79.0  6.543777e+18   \n",
              "1           17.629808    4518       301        5      98.5  1.176014e+19   \n",
              "2           17.629808    3606       301        2      98.5  5.152200e+18   \n",
              "3           17.629808    4192       301        3      98.5  1.030107e+19   \n",
              "4           15.544610    8102       301        3      98.5  6.891865e+18   \n",
              "...               ...     ...       ...      ...       ...           ...   \n",
              "43797       16.889030    3230       301        2      27.0  2.025522e+18   \n",
              "43798       17.629808    7717       301        4      97.0  1.031689e+19   \n",
              "43799       17.629808    3699       301        3      98.5  7.461520e+18   \n",
              "43800       17.629808    3605       301        4      39.0  1.008138e+19   \n",
              "43801       17.629808    4187       301        4      81.0  4.719827e+18   \n",
              "\n",
              "       class  redshift  plate    MJD  fiber_ID  \n",
              "0          1  0.284183   5812  56354       171  \n",
              "1          1  0.284183  10445  58158       427  \n",
              "2          1  0.284183   4576  55592       299  \n",
              "3          1  0.284183   9149  58039       775  \n",
              "4          1  0.116123   6121  56187       842  \n",
              "...      ...       ...    ...    ...       ...  \n",
              "43797      1  0.160690   1799  53556       101  \n",
              "43798      0  0.284183   9163  58043       968  \n",
              "43799      1  0.284183   6627  56369       661  \n",
              "43800      1  0.284183   8954  57453       261  \n",
              "43801      1  0.284183   4192  55469       200  \n",
              "\n",
              "[43802 rows x 16 columns]"
            ],
            "text/html": [
              "\n",
              "  <div id=\"df-d2f3b371-2949-491d-92ff-c432781e4772\">\n",
              "    <div class=\"colab-df-container\">\n",
              "      <div>\n",
              "<style scoped>\n",
              "    .dataframe tbody tr th:only-of-type {\n",
              "        vertical-align: middle;\n",
              "    }\n",
              "\n",
              "    .dataframe tbody tr th {\n",
              "        vertical-align: top;\n",
              "    }\n",
              "\n",
              "    .dataframe thead th {\n",
              "        text-align: right;\n",
              "    }\n",
              "</style>\n",
              "<table border=\"1\" class=\"dataframe\">\n",
              "  <thead>\n",
              "    <tr style=\"text-align: right;\">\n",
              "      <th></th>\n",
              "      <th>obj_ID</th>\n",
              "      <th>alpha</th>\n",
              "      <th>delta</th>\n",
              "      <th>Ultraviolet Filter</th>\n",
              "      <th>Red Filter</th>\n",
              "      <th>Infared Filter</th>\n",
              "      <th>run_ID</th>\n",
              "      <th>rerun_ID</th>\n",
              "      <th>cam_col</th>\n",
              "      <th>field_ID</th>\n",
              "      <th>spec_obj_ID</th>\n",
              "      <th>class</th>\n",
              "      <th>redshift</th>\n",
              "      <th>plate</th>\n",
              "      <th>MJD</th>\n",
              "      <th>fiber_ID</th>\n",
              "    </tr>\n",
              "  </thead>\n",
              "  <tbody>\n",
              "    <tr>\n",
              "      <th>0</th>\n",
              "      <td>1.237661e+18</td>\n",
              "      <td>135.689107</td>\n",
              "      <td>32.494632</td>\n",
              "      <td>19.916678</td>\n",
              "      <td>19.665543</td>\n",
              "      <td>17.629808</td>\n",
              "      <td>3606</td>\n",
              "      <td>301</td>\n",
              "      <td>2</td>\n",
              "      <td>79.0</td>\n",
              "      <td>6.543777e+18</td>\n",
              "      <td>1</td>\n",
              "      <td>0.284183</td>\n",
              "      <td>5812</td>\n",
              "      <td>56354</td>\n",
              "      <td>171</td>\n",
              "    </tr>\n",
              "    <tr>\n",
              "      <th>1</th>\n",
              "      <td>1.237665e+18</td>\n",
              "      <td>144.826101</td>\n",
              "      <td>31.274185</td>\n",
              "      <td>19.916678</td>\n",
              "      <td>19.665543</td>\n",
              "      <td>17.629808</td>\n",
              "      <td>4518</td>\n",
              "      <td>301</td>\n",
              "      <td>5</td>\n",
              "      <td>98.5</td>\n",
              "      <td>1.176014e+19</td>\n",
              "      <td>1</td>\n",
              "      <td>0.284183</td>\n",
              "      <td>10445</td>\n",
              "      <td>58158</td>\n",
              "      <td>427</td>\n",
              "    </tr>\n",
              "    <tr>\n",
              "      <th>2</th>\n",
              "      <td>1.237661e+18</td>\n",
              "      <td>142.188790</td>\n",
              "      <td>35.582444</td>\n",
              "      <td>19.916678</td>\n",
              "      <td>19.665543</td>\n",
              "      <td>17.629808</td>\n",
              "      <td>3606</td>\n",
              "      <td>301</td>\n",
              "      <td>2</td>\n",
              "      <td>98.5</td>\n",
              "      <td>5.152200e+18</td>\n",
              "      <td>1</td>\n",
              "      <td>0.284183</td>\n",
              "      <td>4576</td>\n",
              "      <td>55592</td>\n",
              "      <td>299</td>\n",
              "    </tr>\n",
              "    <tr>\n",
              "      <th>3</th>\n",
              "      <td>1.237663e+18</td>\n",
              "      <td>338.741038</td>\n",
              "      <td>-0.402828</td>\n",
              "      <td>19.916678</td>\n",
              "      <td>19.665543</td>\n",
              "      <td>17.629808</td>\n",
              "      <td>4192</td>\n",
              "      <td>301</td>\n",
              "      <td>3</td>\n",
              "      <td>98.5</td>\n",
              "      <td>1.030107e+19</td>\n",
              "      <td>1</td>\n",
              "      <td>0.284183</td>\n",
              "      <td>9149</td>\n",
              "      <td>58039</td>\n",
              "      <td>775</td>\n",
              "    </tr>\n",
              "    <tr>\n",
              "      <th>4</th>\n",
              "      <td>1.237680e+18</td>\n",
              "      <td>345.282593</td>\n",
              "      <td>21.183866</td>\n",
              "      <td>19.437180</td>\n",
              "      <td>18.746048</td>\n",
              "      <td>15.544610</td>\n",
              "      <td>8102</td>\n",
              "      <td>301</td>\n",
              "      <td>3</td>\n",
              "      <td>98.5</td>\n",
              "      <td>6.891865e+18</td>\n",
              "      <td>1</td>\n",
              "      <td>0.116123</td>\n",
              "      <td>6121</td>\n",
              "      <td>56187</td>\n",
              "      <td>842</td>\n",
              "    </tr>\n",
              "    <tr>\n",
              "      <th>...</th>\n",
              "      <td>...</td>\n",
              "      <td>...</td>\n",
              "      <td>...</td>\n",
              "      <td>...</td>\n",
              "      <td>...</td>\n",
              "      <td>...</td>\n",
              "      <td>...</td>\n",
              "      <td>...</td>\n",
              "      <td>...</td>\n",
              "      <td>...</td>\n",
              "      <td>...</td>\n",
              "      <td>...</td>\n",
              "      <td>...</td>\n",
              "      <td>...</td>\n",
              "      <td>...</td>\n",
              "      <td>...</td>\n",
              "    </tr>\n",
              "    <tr>\n",
              "      <th>43797</th>\n",
              "      <td>1.237659e+18</td>\n",
              "      <td>201.624727</td>\n",
              "      <td>6.578219</td>\n",
              "      <td>19.916678</td>\n",
              "      <td>18.746048</td>\n",
              "      <td>16.889030</td>\n",
              "      <td>3230</td>\n",
              "      <td>301</td>\n",
              "      <td>2</td>\n",
              "      <td>27.0</td>\n",
              "      <td>2.025522e+18</td>\n",
              "      <td>1</td>\n",
              "      <td>0.160690</td>\n",
              "      <td>1799</td>\n",
              "      <td>53556</td>\n",
              "      <td>101</td>\n",
              "    </tr>\n",
              "    <tr>\n",
              "      <th>43798</th>\n",
              "      <td>1.237679e+18</td>\n",
              "      <td>325.211753</td>\n",
              "      <td>2.045357</td>\n",
              "      <td>19.916678</td>\n",
              "      <td>19.665543</td>\n",
              "      <td>17.629808</td>\n",
              "      <td>7717</td>\n",
              "      <td>301</td>\n",
              "      <td>4</td>\n",
              "      <td>97.0</td>\n",
              "      <td>1.031689e+19</td>\n",
              "      <td>0</td>\n",
              "      <td>0.284183</td>\n",
              "      <td>9163</td>\n",
              "      <td>58043</td>\n",
              "      <td>968</td>\n",
              "    </tr>\n",
              "    <tr>\n",
              "      <th>43799</th>\n",
              "      <td>1.237661e+18</td>\n",
              "      <td>202.717281</td>\n",
              "      <td>45.848246</td>\n",
              "      <td>19.916678</td>\n",
              "      <td>19.665543</td>\n",
              "      <td>17.629808</td>\n",
              "      <td>3699</td>\n",
              "      <td>301</td>\n",
              "      <td>3</td>\n",
              "      <td>98.5</td>\n",
              "      <td>7.461520e+18</td>\n",
              "      <td>1</td>\n",
              "      <td>0.284183</td>\n",
              "      <td>6627</td>\n",
              "      <td>56369</td>\n",
              "      <td>661</td>\n",
              "    </tr>\n",
              "    <tr>\n",
              "      <th>43800</th>\n",
              "      <td>1.237661e+18</td>\n",
              "      <td>115.883288</td>\n",
              "      <td>20.052520</td>\n",
              "      <td>19.916678</td>\n",
              "      <td>19.665543</td>\n",
              "      <td>17.629808</td>\n",
              "      <td>3605</td>\n",
              "      <td>301</td>\n",
              "      <td>4</td>\n",
              "      <td>39.0</td>\n",
              "      <td>1.008138e+19</td>\n",
              "      <td>1</td>\n",
              "      <td>0.284183</td>\n",
              "      <td>8954</td>\n",
              "      <td>57453</td>\n",
              "      <td>261</td>\n",
              "    </tr>\n",
              "    <tr>\n",
              "      <th>43801</th>\n",
              "      <td>1.237663e+18</td>\n",
              "      <td>319.852246</td>\n",
              "      <td>0.043314</td>\n",
              "      <td>19.916678</td>\n",
              "      <td>19.665543</td>\n",
              "      <td>17.629808</td>\n",
              "      <td>4187</td>\n",
              "      <td>301</td>\n",
              "      <td>4</td>\n",
              "      <td>81.0</td>\n",
              "      <td>4.719827e+18</td>\n",
              "      <td>1</td>\n",
              "      <td>0.284183</td>\n",
              "      <td>4192</td>\n",
              "      <td>55469</td>\n",
              "      <td>200</td>\n",
              "    </tr>\n",
              "  </tbody>\n",
              "</table>\n",
              "<p>43802 rows × 16 columns</p>\n",
              "</div>\n",
              "      <button class=\"colab-df-convert\" onclick=\"convertToInteractive('df-d2f3b371-2949-491d-92ff-c432781e4772')\"\n",
              "              title=\"Convert this dataframe to an interactive table.\"\n",
              "              style=\"display:none;\">\n",
              "        \n",
              "  <svg xmlns=\"http://www.w3.org/2000/svg\" height=\"24px\"viewBox=\"0 0 24 24\"\n",
              "       width=\"24px\">\n",
              "    <path d=\"M0 0h24v24H0V0z\" fill=\"none\"/>\n",
              "    <path d=\"M18.56 5.44l.94 2.06.94-2.06 2.06-.94-2.06-.94-.94-2.06-.94 2.06-2.06.94zm-11 1L8.5 8.5l.94-2.06 2.06-.94-2.06-.94L8.5 2.5l-.94 2.06-2.06.94zm10 10l.94 2.06.94-2.06 2.06-.94-2.06-.94-.94-2.06-.94 2.06-2.06.94z\"/><path d=\"M17.41 7.96l-1.37-1.37c-.4-.4-.92-.59-1.43-.59-.52 0-1.04.2-1.43.59L10.3 9.45l-7.72 7.72c-.78.78-.78 2.05 0 2.83L4 21.41c.39.39.9.59 1.41.59.51 0 1.02-.2 1.41-.59l7.78-7.78 2.81-2.81c.8-.78.8-2.07 0-2.86zM5.41 20L4 18.59l7.72-7.72 1.47 1.35L5.41 20z\"/>\n",
              "  </svg>\n",
              "      </button>\n",
              "      \n",
              "  <style>\n",
              "    .colab-df-container {\n",
              "      display:flex;\n",
              "      flex-wrap:wrap;\n",
              "      gap: 12px;\n",
              "    }\n",
              "\n",
              "    .colab-df-convert {\n",
              "      background-color: #E8F0FE;\n",
              "      border: none;\n",
              "      border-radius: 50%;\n",
              "      cursor: pointer;\n",
              "      display: none;\n",
              "      fill: #1967D2;\n",
              "      height: 32px;\n",
              "      padding: 0 0 0 0;\n",
              "      width: 32px;\n",
              "    }\n",
              "\n",
              "    .colab-df-convert:hover {\n",
              "      background-color: #E2EBFA;\n",
              "      box-shadow: 0px 1px 2px rgba(60, 64, 67, 0.3), 0px 1px 3px 1px rgba(60, 64, 67, 0.15);\n",
              "      fill: #174EA6;\n",
              "    }\n",
              "\n",
              "    [theme=dark] .colab-df-convert {\n",
              "      background-color: #3B4455;\n",
              "      fill: #D2E3FC;\n",
              "    }\n",
              "\n",
              "    [theme=dark] .colab-df-convert:hover {\n",
              "      background-color: #434B5C;\n",
              "      box-shadow: 0px 1px 3px 1px rgba(0, 0, 0, 0.15);\n",
              "      filter: drop-shadow(0px 1px 2px rgba(0, 0, 0, 0.3));\n",
              "      fill: #FFFFFF;\n",
              "    }\n",
              "  </style>\n",
              "\n",
              "      <script>\n",
              "        const buttonEl =\n",
              "          document.querySelector('#df-d2f3b371-2949-491d-92ff-c432781e4772 button.colab-df-convert');\n",
              "        buttonEl.style.display =\n",
              "          google.colab.kernel.accessAllowed ? 'block' : 'none';\n",
              "\n",
              "        async function convertToInteractive(key) {\n",
              "          const element = document.querySelector('#df-d2f3b371-2949-491d-92ff-c432781e4772');\n",
              "          const dataTable =\n",
              "            await google.colab.kernel.invokeFunction('convertToInteractive',\n",
              "                                                     [key], {});\n",
              "          if (!dataTable) return;\n",
              "\n",
              "          const docLinkHtml = 'Like what you see? Visit the ' +\n",
              "            '<a target=\"_blank\" href=https://colab.research.google.com/notebooks/data_table.ipynb>data table notebook</a>'\n",
              "            + ' to learn more about interactive tables.';\n",
              "          element.innerHTML = '';\n",
              "          dataTable['output_type'] = 'display_data';\n",
              "          await google.colab.output.renderOutput(dataTable, element);\n",
              "          const docLink = document.createElement('div');\n",
              "          docLink.innerHTML = docLinkHtml;\n",
              "          element.appendChild(docLink);\n",
              "        }\n",
              "      </script>\n",
              "    </div>\n",
              "  </div>\n",
              "  "
            ]
          },
          "metadata": {},
          "execution_count": 34
        }
      ],
      "source": [
        "new_df = new.drop(['Green Filter', 'Near Infared Filter'], axis =1)\n",
        "new_df"
      ],
      "id": "65a1944a-3289-439c-b387-45f24222060f"
    },
    {
      "cell_type": "code",
      "execution_count": 35,
      "metadata": {
        "id": "a2a7ce56-5c36-47dd-b6ad-2a690dbc14bb",
        "colab": {
          "base_uri": "https://localhost:8080/"
        },
        "outputId": "8e25345b-5147-4f65-8ba1-6bf53eb4231c"
      },
      "outputs": [
        {
          "output_type": "execute_result",
          "data": {
            "text/plain": [
              "0"
            ]
          },
          "metadata": {},
          "execution_count": 35
        }
      ],
      "source": [
        "y = new_df['class']\n",
        "X = new_df.drop(columns=['class'], axis=1)\n",
        "y.isna().sum()"
      ],
      "id": "a2a7ce56-5c36-47dd-b6ad-2a690dbc14bb"
    },
    {
      "cell_type": "code",
      "execution_count": 36,
      "metadata": {
        "id": "b780a8d6-cf89-4524-bcc1-51918710f5bf"
      },
      "outputs": [],
      "source": [
        "sample = SMOTE(random_state = 45)\n",
        "X, y = sample.fit_resample(X, y)"
      ],
      "id": "b780a8d6-cf89-4524-bcc1-51918710f5bf"
    },
    {
      "cell_type": "code",
      "execution_count": 37,
      "metadata": {
        "id": "b92d614c-f5a4-43d8-9d0c-16baa791ef29"
      },
      "outputs": [],
      "source": [
        "def calcu_mult(new_df):\n",
        "  vif = pd.DataFrame()\n",
        "  vif[\"variables\"] = X.columns\n",
        "  vif[\"VIF\"] = [variance_inflation_factor(X.values, i) for i in range(X.shape[1])]\n",
        "\n",
        "  return vif"
      ],
      "id": "b92d614c-f5a4-43d8-9d0c-16baa791ef29"
    },
    {
      "cell_type": "code",
      "execution_count": 38,
      "metadata": {
        "colab": {
          "base_uri": "https://localhost:8080/",
          "height": 575
        },
        "id": "1a523669-3d8c-47b3-97de-973840ed8a6c",
        "outputId": "7765972b-3abc-4eac-b632-c0f2d6851bff"
      },
      "outputs": [
        {
          "output_type": "stream",
          "name": "stderr",
          "text": [
            "/usr/local/lib/python3.7/dist-packages/statsmodels/regression/linear_model.py:1636: RuntimeWarning: divide by zero encountered in double_scalars\n",
            "  return 1 - self.ssr/self.centered_tss\n"
          ]
        },
        {
          "output_type": "execute_result",
          "data": {
            "text/plain": [
              "             variables           VIF\n",
              "0               obj_ID  7.258139e-10\n",
              "1                alpha  1.002903e+00\n",
              "2                delta  1.021801e+00\n",
              "3   Ultraviolet Filter  1.097079e+00\n",
              "4           Red Filter  1.449363e+00\n",
              "5       Infared Filter  1.195429e+00\n",
              "6               run_ID  1.055547e+00\n",
              "7             rerun_ID  0.000000e+00\n",
              "8              cam_col  1.002072e+00\n",
              "9             field_ID  1.000260e+00\n",
              "10         spec_obj_ID  2.492261e+02\n",
              "11            redshift  1.183706e+00\n",
              "12               plate  1.752026e+08\n",
              "13                 MJD  1.731684e+01\n",
              "14            fiber_ID  1.054653e+00"
            ],
            "text/html": [
              "\n",
              "  <div id=\"df-99017a27-102a-4cc1-83ab-1587b180fbb9\">\n",
              "    <div class=\"colab-df-container\">\n",
              "      <div>\n",
              "<style scoped>\n",
              "    .dataframe tbody tr th:only-of-type {\n",
              "        vertical-align: middle;\n",
              "    }\n",
              "\n",
              "    .dataframe tbody tr th {\n",
              "        vertical-align: top;\n",
              "    }\n",
              "\n",
              "    .dataframe thead th {\n",
              "        text-align: right;\n",
              "    }\n",
              "</style>\n",
              "<table border=\"1\" class=\"dataframe\">\n",
              "  <thead>\n",
              "    <tr style=\"text-align: right;\">\n",
              "      <th></th>\n",
              "      <th>variables</th>\n",
              "      <th>VIF</th>\n",
              "    </tr>\n",
              "  </thead>\n",
              "  <tbody>\n",
              "    <tr>\n",
              "      <th>0</th>\n",
              "      <td>obj_ID</td>\n",
              "      <td>7.258139e-10</td>\n",
              "    </tr>\n",
              "    <tr>\n",
              "      <th>1</th>\n",
              "      <td>alpha</td>\n",
              "      <td>1.002903e+00</td>\n",
              "    </tr>\n",
              "    <tr>\n",
              "      <th>2</th>\n",
              "      <td>delta</td>\n",
              "      <td>1.021801e+00</td>\n",
              "    </tr>\n",
              "    <tr>\n",
              "      <th>3</th>\n",
              "      <td>Ultraviolet Filter</td>\n",
              "      <td>1.097079e+00</td>\n",
              "    </tr>\n",
              "    <tr>\n",
              "      <th>4</th>\n",
              "      <td>Red Filter</td>\n",
              "      <td>1.449363e+00</td>\n",
              "    </tr>\n",
              "    <tr>\n",
              "      <th>5</th>\n",
              "      <td>Infared Filter</td>\n",
              "      <td>1.195429e+00</td>\n",
              "    </tr>\n",
              "    <tr>\n",
              "      <th>6</th>\n",
              "      <td>run_ID</td>\n",
              "      <td>1.055547e+00</td>\n",
              "    </tr>\n",
              "    <tr>\n",
              "      <th>7</th>\n",
              "      <td>rerun_ID</td>\n",
              "      <td>0.000000e+00</td>\n",
              "    </tr>\n",
              "    <tr>\n",
              "      <th>8</th>\n",
              "      <td>cam_col</td>\n",
              "      <td>1.002072e+00</td>\n",
              "    </tr>\n",
              "    <tr>\n",
              "      <th>9</th>\n",
              "      <td>field_ID</td>\n",
              "      <td>1.000260e+00</td>\n",
              "    </tr>\n",
              "    <tr>\n",
              "      <th>10</th>\n",
              "      <td>spec_obj_ID</td>\n",
              "      <td>2.492261e+02</td>\n",
              "    </tr>\n",
              "    <tr>\n",
              "      <th>11</th>\n",
              "      <td>redshift</td>\n",
              "      <td>1.183706e+00</td>\n",
              "    </tr>\n",
              "    <tr>\n",
              "      <th>12</th>\n",
              "      <td>plate</td>\n",
              "      <td>1.752026e+08</td>\n",
              "    </tr>\n",
              "    <tr>\n",
              "      <th>13</th>\n",
              "      <td>MJD</td>\n",
              "      <td>1.731684e+01</td>\n",
              "    </tr>\n",
              "    <tr>\n",
              "      <th>14</th>\n",
              "      <td>fiber_ID</td>\n",
              "      <td>1.054653e+00</td>\n",
              "    </tr>\n",
              "  </tbody>\n",
              "</table>\n",
              "</div>\n",
              "      <button class=\"colab-df-convert\" onclick=\"convertToInteractive('df-99017a27-102a-4cc1-83ab-1587b180fbb9')\"\n",
              "              title=\"Convert this dataframe to an interactive table.\"\n",
              "              style=\"display:none;\">\n",
              "        \n",
              "  <svg xmlns=\"http://www.w3.org/2000/svg\" height=\"24px\"viewBox=\"0 0 24 24\"\n",
              "       width=\"24px\">\n",
              "    <path d=\"M0 0h24v24H0V0z\" fill=\"none\"/>\n",
              "    <path d=\"M18.56 5.44l.94 2.06.94-2.06 2.06-.94-2.06-.94-.94-2.06-.94 2.06-2.06.94zm-11 1L8.5 8.5l.94-2.06 2.06-.94-2.06-.94L8.5 2.5l-.94 2.06-2.06.94zm10 10l.94 2.06.94-2.06 2.06-.94-2.06-.94-.94-2.06-.94 2.06-2.06.94z\"/><path d=\"M17.41 7.96l-1.37-1.37c-.4-.4-.92-.59-1.43-.59-.52 0-1.04.2-1.43.59L10.3 9.45l-7.72 7.72c-.78.78-.78 2.05 0 2.83L4 21.41c.39.39.9.59 1.41.59.51 0 1.02-.2 1.41-.59l7.78-7.78 2.81-2.81c.8-.78.8-2.07 0-2.86zM5.41 20L4 18.59l7.72-7.72 1.47 1.35L5.41 20z\"/>\n",
              "  </svg>\n",
              "      </button>\n",
              "      \n",
              "  <style>\n",
              "    .colab-df-container {\n",
              "      display:flex;\n",
              "      flex-wrap:wrap;\n",
              "      gap: 12px;\n",
              "    }\n",
              "\n",
              "    .colab-df-convert {\n",
              "      background-color: #E8F0FE;\n",
              "      border: none;\n",
              "      border-radius: 50%;\n",
              "      cursor: pointer;\n",
              "      display: none;\n",
              "      fill: #1967D2;\n",
              "      height: 32px;\n",
              "      padding: 0 0 0 0;\n",
              "      width: 32px;\n",
              "    }\n",
              "\n",
              "    .colab-df-convert:hover {\n",
              "      background-color: #E2EBFA;\n",
              "      box-shadow: 0px 1px 2px rgba(60, 64, 67, 0.3), 0px 1px 3px 1px rgba(60, 64, 67, 0.15);\n",
              "      fill: #174EA6;\n",
              "    }\n",
              "\n",
              "    [theme=dark] .colab-df-convert {\n",
              "      background-color: #3B4455;\n",
              "      fill: #D2E3FC;\n",
              "    }\n",
              "\n",
              "    [theme=dark] .colab-df-convert:hover {\n",
              "      background-color: #434B5C;\n",
              "      box-shadow: 0px 1px 3px 1px rgba(0, 0, 0, 0.15);\n",
              "      filter: drop-shadow(0px 1px 2px rgba(0, 0, 0, 0.3));\n",
              "      fill: #FFFFFF;\n",
              "    }\n",
              "  </style>\n",
              "\n",
              "      <script>\n",
              "        const buttonEl =\n",
              "          document.querySelector('#df-99017a27-102a-4cc1-83ab-1587b180fbb9 button.colab-df-convert');\n",
              "        buttonEl.style.display =\n",
              "          google.colab.kernel.accessAllowed ? 'block' : 'none';\n",
              "\n",
              "        async function convertToInteractive(key) {\n",
              "          const element = document.querySelector('#df-99017a27-102a-4cc1-83ab-1587b180fbb9');\n",
              "          const dataTable =\n",
              "            await google.colab.kernel.invokeFunction('convertToInteractive',\n",
              "                                                     [key], {});\n",
              "          if (!dataTable) return;\n",
              "\n",
              "          const docLinkHtml = 'Like what you see? Visit the ' +\n",
              "            '<a target=\"_blank\" href=https://colab.research.google.com/notebooks/data_table.ipynb>data table notebook</a>'\n",
              "            + ' to learn more about interactive tables.';\n",
              "          element.innerHTML = '';\n",
              "          dataTable['output_type'] = 'display_data';\n",
              "          await google.colab.output.renderOutput(dataTable, element);\n",
              "          const docLink = document.createElement('div');\n",
              "          docLink.innerHTML = docLinkHtml;\n",
              "          element.appendChild(docLink);\n",
              "        }\n",
              "      </script>\n",
              "    </div>\n",
              "  </div>\n",
              "  "
            ]
          },
          "metadata": {},
          "execution_count": 38
        }
      ],
      "source": [
        "calcu_mult(new_df)"
      ],
      "id": "1a523669-3d8c-47b3-97de-973840ed8a6c"
    },
    {
      "cell_type": "code",
      "execution_count": 39,
      "metadata": {
        "id": "ec93453b-ca7c-4e9a-9ab2-6961c5dc5376"
      },
      "outputs": [],
      "source": [
        "X_train, X_test, y_train, y_test = train_test_split(X, y, test_size = 0.20, train_size = 0.70, random_state = 45)"
      ],
      "id": "ec93453b-ca7c-4e9a-9ab2-6961c5dc5376"
    },
    {
      "cell_type": "code",
      "execution_count": 40,
      "metadata": {
        "id": "19453d5a-7022-43e6-b490-9e69b211fc3e"
      },
      "outputs": [],
      "source": [
        "std_scale = MinMaxScaler()\n",
        "X_train_norm = pd.DataFrame(std_scale.fit_transform(X_train))"
      ],
      "id": "19453d5a-7022-43e6-b490-9e69b211fc3e"
    },
    {
      "cell_type": "code",
      "execution_count": 41,
      "metadata": {
        "id": "e7762325-b6b3-4af8-a183-5f02d1e0c9c5"
      },
      "outputs": [],
      "source": [
        "X_train_, X_test_, y_train_, y_test_ = train_test_split(X_train_norm, y_train, test_size = .20, train_size = 0.80,  random_state = 45)"
      ],
      "id": "e7762325-b6b3-4af8-a183-5f02d1e0c9c5"
    },
    {
      "cell_type": "code",
      "execution_count": 42,
      "metadata": {
        "colab": {
          "base_uri": "https://localhost:8080/"
        },
        "id": "ec1a95fd-1059-4e3a-adad-f6cfeb9eb24d",
        "outputId": "ff88cd8c-b002-4d6b-8e1c-f9140cb6ac84"
      },
      "outputs": [
        {
          "output_type": "stream",
          "name": "stdout",
          "text": [
            "[0.37630798 0.12937128 0.10773371 0.0887831  0.07702508 0.0679702\n",
            " 0.05620915 0.05592893 0.0294319 ]\n"
          ]
        }
      ],
      "source": [
        "pca = PCA(n_components= 9)\n",
        "model = pca.fit(X_train_)\n",
        "PCA(n_components= 9)\n",
        "print(model.explained_variance_ratio_)  "
      ],
      "id": "ec1a95fd-1059-4e3a-adad-f6cfeb9eb24d"
    },
    {
      "cell_type": "code",
      "execution_count": 43,
      "metadata": {
        "colab": {
          "base_uri": "https://localhost:8080/",
          "height": 295
        },
        "id": "88c8cb98-c0c6-4c4e-9e82-a7bbbaa3faac",
        "outputId": "917c1236-6370-4a0e-c696-ce5cba753443"
      },
      "outputs": [
        {
          "output_type": "display_data",
          "data": {
            "text/plain": [
              "<Figure size 432x288 with 1 Axes>"
            ],
            "image/png": "[encoded data removed]"
          },
          "metadata": {
            "needs_background": "light"
          }
        }
      ],
      "source": [
        "features = new_df.columns\n",
        "importances = model.singular_values_\n",
        "indices = np.argsort(importances)[-10:]\n",
        "plt.title('Feature Importances')\n",
        "plt.barh(range(len(indices)), importances[indices], color='purple', align='center')\n",
        "plt.yticks(range(len(indices)), [features[i] for i in indices])\n",
        "plt.xlabel('Relative Importance')\n",
        "plt.show()"
      ],
      "id": "88c8cb98-c0c6-4c4e-9e82-a7bbbaa3faac"
    },
    {
      "cell_type": "code",
      "execution_count": 44,
      "metadata": {
        "colab": {
          "base_uri": "https://localhost:8080/"
        },
        "id": "33338a47-cc4d-4fd0-80bb-317ba6d00638",
        "outputId": "4a7470af-e4f8-4bbd-f150-a7d5a8626e8b"
      },
      "outputs": [
        {
          "output_type": "stream",
          "name": "stderr",
          "text": [
            "/usr/local/lib/python3.7/dist-packages/sklearn/linear_model/_logistic.py:818: ConvergenceWarning: lbfgs failed to converge (status=1):\n",
            "STOP: TOTAL NO. of ITERATIONS REACHED LIMIT.\n",
            "\n",
            "Increase the number of iterations (max_iter) or scale the data as shown in:\n",
            "    https://scikit-learn.org/stable/modules/preprocessing.html\n",
            "Please also refer to the documentation for alternative solver options:\n",
            "    https://scikit-learn.org/stable/modules/linear_model.html#logistic-regression\n",
            "  extra_warning_msg=_LOGISTIC_SOLVER_CONVERGENCE_MSG,\n"
          ]
        }
      ],
      "source": [
        "model = LogisticRegression()\n",
        "gen = model.fit(X_train_,  y_train_)"
      ],
      "id": "33338a47-cc4d-4fd0-80bb-317ba6d00638"
    },
    {
      "cell_type": "code",
      "execution_count": 45,
      "metadata": {
        "colab": {
          "base_uri": "https://localhost:8080/"
        },
        "id": "a1e4b9b7-cea7-465f-9df4-05fefe4c07fd",
        "outputId": "60637036-0b63-4dc0-f48d-e2d739f2de4c"
      },
      "outputs": [
        {
          "output_type": "execute_result",
          "data": {
            "text/plain": [
              "0.7911584664242648"
            ]
          },
          "metadata": {},
          "execution_count": 45
        }
      ],
      "source": [
        "coef_deter = gen.score(X_train_, y_train_)\n",
        "coef_deter"
      ],
      "id": "a1e4b9b7-cea7-465f-9df4-05fefe4c07fd"
    },
    {
      "cell_type": "code",
      "execution_count": 46,
      "metadata": {
        "colab": {
          "base_uri": "https://localhost:8080/"
        },
        "id": "a084c340-ba47-400f-8195-d55d2819c7a6",
        "outputId": "8ecbce6c-de98-4dd8-e499-bea4616d3bb3"
      },
      "outputs": [
        {
          "output_type": "execute_result",
          "data": {
            "text/plain": [
              "0.7910863493147378"
            ]
          },
          "metadata": {},
          "execution_count": 46
        }
      ],
      "source": [
        "1 - (1-gen.score(X_train_, y_train_))*(len(y_train_)-1)/(len(y_train_)-X_train_.shape[1]-1)"
      ],
      "id": "a084c340-ba47-400f-8195-d55d2819c7a6"
    },
    {
      "cell_type": "code",
      "execution_count": 47,
      "metadata": {
        "id": "71de9374-de60-49be-a68f-604411d7916f"
      },
      "outputs": [],
      "source": [
        "y_predict = gen.predict(X_test_)"
      ],
      "id": "71de9374-de60-49be-a68f-604411d7916f"
    },
    {
      "cell_type": "code",
      "execution_count": 48,
      "metadata": {
        "colab": {
          "base_uri": "https://localhost:8080/"
        },
        "id": "46c7fb58-02f4-4be3-a2bc-46081f1b50ed",
        "outputId": "2907f42b-2489-4669-da65-184a16668d66"
      },
      "outputs": [
        {
          "output_type": "stream",
          "name": "stdout",
          "text": [
            "[[3122  505    1]\n",
            " [1615 1960   74]\n",
            " [   0    0 3587]]\n"
          ]
        }
      ],
      "source": [
        "cf_matrix = confusion_matrix(y_test_, y_predict)\n",
        "print(cf_matrix)"
      ],
      "id": "46c7fb58-02f4-4be3-a2bc-46081f1b50ed"
    },
    {
      "cell_type": "code",
      "execution_count": 49,
      "metadata": {
        "id": "fcd096d2-9ea3-45f3-aaf3-155c2cc88df7"
      },
      "outputs": [],
      "source": [
        "cv = RepeatedKFold(n_splits = 10, n_repeats =4, random_state =1)"
      ],
      "id": "fcd096d2-9ea3-45f3-aaf3-155c2cc88df7"
    },
    {
      "cell_type": "code",
      "execution_count": null,
      "metadata": {
        "id": "a3a9907d-acb0-4126-9bd8-8391f1073f9c"
      },
      "outputs": [],
      "source": [
        "score = cross_val_score(gen, X_test_, y_test_, scoring = \"accuracy\", cv = cv, n_jobs = 1, error_score = \"raise\")\n",
        "np.mean(score) "
      ],
      "id": "a3a9907d-acb0-4126-9bd8-8391f1073f9c"
    },
    {
      "cell_type": "code",
      "execution_count": 51,
      "metadata": {
        "colab": {
          "base_uri": "https://localhost:8080/"
        },
        "id": "dbb396fe-f1d0-49eb-840c-8d62aa3a5dbc",
        "outputId": "46be3681-3534-41f8-b8ec-0533742daad4"
      },
      "outputs": [
        {
          "output_type": "stream",
          "name": "stdout",
          "text": [
            "              precision    recall  f1-score   support\n",
            "\n",
            "           0       0.66      0.86      0.75      3628\n",
            "           1       0.80      0.54      0.64      3649\n",
            "           2       0.98      1.00      0.99      3587\n",
            "\n",
            "    accuracy                           0.80     10864\n",
            "   macro avg       0.81      0.80      0.79     10864\n",
            "weighted avg       0.81      0.80      0.79     10864\n",
            "\n"
          ]
        }
      ],
      "source": [
        "classification_report(y_test_, y_predict)\n",
        "print(classification_report(y_test_, y_predict))"
      ],
      "id": "dbb396fe-f1d0-49eb-840c-8d62aa3a5dbc"
    },
    {
      "cell_type": "code",
      "execution_count": 52,
      "metadata": {
        "id": "e37a5b15-1f9e-4c9e-8884-d13ab9cb0d22"
      },
      "outputs": [],
      "source": [
        "model_ = RandomForestClassifier()\n",
        "gen_ = model_.fit(X_train_,  y_train_)"
      ],
      "id": "e37a5b15-1f9e-4c9e-8884-d13ab9cb0d22"
    },
    {
      "cell_type": "code",
      "execution_count": 53,
      "metadata": {
        "colab": {
          "base_uri": "https://localhost:8080/"
        },
        "id": "c2bab604-a0bd-4a37-b8ac-81224e480d00",
        "outputId": "d3b81141-0559-4c89-c591-33258c05646e"
      },
      "outputs": [
        {
          "output_type": "execute_result",
          "data": {
            "text/plain": [
              "0.9999539743176693"
            ]
          },
          "metadata": {},
          "execution_count": 53
        }
      ],
      "source": [
        "coef_deter = gen_.score(X_train_, y_train_)\n",
        "coef_deter"
      ],
      "id": "c2bab604-a0bd-4a37-b8ac-81224e480d00"
    },
    {
      "cell_type": "code",
      "execution_count": 54,
      "metadata": {
        "colab": {
          "base_uri": "https://localhost:8080/"
        },
        "id": "ea74a9d0-f4c6-46d5-bb71-a003311f831c",
        "outputId": "1f0ddedb-d14f-43a7-eb04-77fb1f96013d"
      },
      "outputs": [
        {
          "output_type": "execute_result",
          "data": {
            "text/plain": [
              "0.9999539584240914"
            ]
          },
          "metadata": {},
          "execution_count": 54
        }
      ],
      "source": [
        "1 - (1-gen_.score(X_train_, y_train_))*(len(y_train_)-1)/(len(y_train_)-X_train_.shape[1]-1)"
      ],
      "id": "ea74a9d0-f4c6-46d5-bb71-a003311f831c"
    },
    {
      "cell_type": "code",
      "execution_count": 55,
      "metadata": {
        "id": "471c49be-7345-4d59-b481-e05aaa0b175d"
      },
      "outputs": [],
      "source": [
        "y_predict_ = gen_.predict(X_test_)"
      ],
      "id": "471c49be-7345-4d59-b481-e05aaa0b175d"
    },
    {
      "cell_type": "code",
      "execution_count": 56,
      "metadata": {
        "colab": {
          "base_uri": "https://localhost:8080/"
        },
        "id": "4dab6a7c-a492-426c-bfa2-25086b35a6cc",
        "outputId": "44c624c5-71f7-4dca-d131-f0c467a991f8"
      },
      "outputs": [
        {
          "output_type": "stream",
          "name": "stdout",
          "text": [
            "[[3314  314    0]\n",
            " [ 321 3308   20]\n",
            " [   0    0 3587]]\n"
          ]
        }
      ],
      "source": [
        "cf_matrix = confusion_matrix(y_test_, y_predict_)\n",
        "print(cf_matrix)"
      ],
      "id": "4dab6a7c-a492-426c-bfa2-25086b35a6cc"
    },
    {
      "cell_type": "code",
      "execution_count": 57,
      "metadata": {
        "id": "445cb777-8969-4ec4-bbc9-ac3e768ef2d8"
      },
      "outputs": [],
      "source": [
        "cv_ = RepeatedKFold(n_splits = 10, n_repeats =4, random_state =1)"
      ],
      "id": "445cb777-8969-4ec4-bbc9-ac3e768ef2d8"
    },
    {
      "cell_type": "code",
      "execution_count": null,
      "metadata": {
        "id": "fd47aae5-97c5-44ac-b67c-333cfee449e0"
      },
      "outputs": [],
      "source": [
        "score_ = cross_val_score(gen, X_test_, y_test_, scoring = \"accuracy\", cv = cv_, n_jobs = 1, error_score = \"raise\")\n",
        "np.mean(score_) "
      ],
      "id": "fd47aae5-97c5-44ac-b67c-333cfee449e0"
    },
    {
      "cell_type": "code",
      "execution_count": 59,
      "metadata": {
        "colab": {
          "base_uri": "https://localhost:8080/"
        },
        "id": "5552ba04-66f3-4ec4-8de3-7cb173aff7a4",
        "outputId": "d3423705-8a75-4121-9e0a-d8a6a9d9ade1"
      },
      "outputs": [
        {
          "output_type": "stream",
          "name": "stdout",
          "text": [
            "              precision    recall  f1-score   support\n",
            "\n",
            "           0       0.91      0.91      0.91      3628\n",
            "           1       0.91      0.91      0.91      3649\n",
            "           2       0.99      1.00      1.00      3587\n",
            "\n",
            "    accuracy                           0.94     10864\n",
            "   macro avg       0.94      0.94      0.94     10864\n",
            "weighted avg       0.94      0.94      0.94     10864\n",
            "\n"
          ]
        }
      ],
      "source": [
        "classification_report(y_test_, y_predict_)\n",
        "print(classification_report(y_test_, y_predict_))"
      ],
      "id": "5552ba04-66f3-4ec4-8de3-7cb173aff7a4"
    },
    {
      "cell_type": "code",
      "execution_count": 60,
      "metadata": {
        "id": "045958d9-1b0f-4f96-8dcd-e48889b202a1"
      },
      "outputs": [],
      "source": [
        "model = SVC(kernel='rbf', random_state=1, decision_function_shape='ovr', probability= True)\n",
        "svc_result = model.fit(X_train_, y_train_)"
      ],
      "id": "045958d9-1b0f-4f96-8dcd-e48889b202a1"
    },
    {
      "cell_type": "code",
      "execution_count": 61,
      "metadata": {
        "id": "d1475f50-ed8e-474b-86e3-f53c88c8c8be",
        "outputId": "e1f26f94-18c3-4500-c164-15205bddb353",
        "colab": {
          "base_uri": "https://localhost:8080/"
        }
      },
      "outputs": [
        {
          "output_type": "execute_result",
          "data": {
            "text/plain": [
              "0.8278639480830303"
            ]
          },
          "metadata": {},
          "execution_count": 61
        }
      ],
      "source": [
        "coef_deter = svc_result.score(X_train_, y_train_)\n",
        "coef_deter"
      ],
      "id": "d1475f50-ed8e-474b-86e3-f53c88c8c8be"
    },
    {
      "cell_type": "code",
      "execution_count": 62,
      "metadata": {
        "id": "b36dbaf9-5867-4896-b03e-b2928205ed2d"
      },
      "outputs": [],
      "source": [
        "y_predict__= svc_result.predict(X_test_)"
      ],
      "id": "b36dbaf9-5867-4896-b03e-b2928205ed2d"
    },
    {
      "cell_type": "code",
      "execution_count": 63,
      "metadata": {
        "colab": {
          "base_uri": "https://localhost:8080/"
        },
        "id": "c113b3cf-4b18-4fae-9fa5-0f5452d8aa6b",
        "outputId": "199a9bf6-1c61-4e0e-e2f5-99e378ac5fc7"
      },
      "outputs": [
        {
          "output_type": "stream",
          "name": "stdout",
          "text": [
            "[[2919  708    1]\n",
            " [1138 2466   45]\n",
            " [   0    0 3587]]\n"
          ]
        }
      ],
      "source": [
        "cf_matrix_ = confusion_matrix(y_test_, y_predict__)\n",
        "print(cf_matrix_)"
      ],
      "id": "c113b3cf-4b18-4fae-9fa5-0f5452d8aa6b"
    },
    {
      "cell_type": "code",
      "execution_count": 64,
      "metadata": {
        "id": "mSVvfyODJ7cn"
      },
      "outputs": [],
      "source": [
        "sv = RepeatedKFold(n_splits = 10, n_repeats =4, random_state =1)"
      ],
      "id": "mSVvfyODJ7cn"
    },
    {
      "cell_type": "code",
      "execution_count": null,
      "metadata": {
        "id": "Gq-QL_TWp3cO"
      },
      "outputs": [],
      "source": [
        "score__ = cross_val_score(gen, X_test_, y_test_, scoring = \"accuracy\", cv = sv, n_jobs = 1, error_score = \"raise\")\n",
        "np.mean(score__) "
      ],
      "id": "Gq-QL_TWp3cO"
    },
    {
      "cell_type": "code",
      "execution_count": 66,
      "metadata": {
        "colab": {
          "base_uri": "https://localhost:8080/"
        },
        "id": "CSMlEOgRqAg9",
        "outputId": "a83cd15a-3da2-4b1e-ccab-d798cf7aed08"
      },
      "outputs": [
        {
          "output_type": "stream",
          "name": "stdout",
          "text": [
            "              precision    recall  f1-score   support\n",
            "\n",
            "           0       0.72      0.80      0.76      3628\n",
            "           1       0.78      0.68      0.72      3649\n",
            "           2       0.99      1.00      0.99      3587\n",
            "\n",
            "    accuracy                           0.83     10864\n",
            "   macro avg       0.83      0.83      0.83     10864\n",
            "weighted avg       0.83      0.83      0.82     10864\n",
            "\n"
          ]
        }
      ],
      "source": [
        "classification_report(y_test_, y_predict__)\n",
        "print(classification_report(y_test_, y_predict__))"
      ],
      "id": "CSMlEOgRqAg9"
    },
    {
      "cell_type": "code",
      "execution_count": 67,
      "metadata": {
        "id": "uD7Cd7gAuA3g"
      },
      "outputs": [],
      "source": [
        "classes = svc_result.classes_"
      ],
      "id": "uD7Cd7gAuA3g"
    },
    {
      "cell_type": "code",
      "execution_count": 68,
      "metadata": {
        "id": "ty-tVydyvCZk"
      },
      "outputs": [],
      "source": [
        "y_prob = svc_result.predict_proba(X_test_)"
      ],
      "id": "ty-tVydyvCZk"
    },
    {
      "cell_type": "code",
      "execution_count": 69,
      "metadata": {
        "id": "t_WRscVsqrm4"
      },
      "outputs": [],
      "source": [
        "def calculate_tpr_fpr(y_real, y_pred):\n",
        "    '''\n",
        "    Calculates the True Positive Rate (tpr) and the True Negative Rate (fpr) based on real and predicted observations\n",
        "    \n",
        "    Args:\n",
        "        y_real: The list or series with the real classes\n",
        "        y_pred: The list or series with the predicted classes\n",
        "        \n",
        "    Returns:\n",
        "        tpr: The True Positive Rate of the classifier\n",
        "        fpr: The False Positive Rate of the classifier\n",
        "    '''\n",
        "    \n",
        "    # Calculates the confusion matrix and recover each element\n",
        "    cm = confusion_matrix(y_real, y_pred)\n",
        "    TN = cm[0, 0]\n",
        "    FP = cm[0, 1]\n",
        "    FN = cm[1, 0]\n",
        "    TP = cm[1, 1]\n",
        "    \n",
        "    # Calculates tpr and fpr\n",
        "    tpr =  TP/(TP + FN) # sensitivity - true positive rate\n",
        "    fpr = 1 - TN/(TN+FP) # 1-specificity - false positive rate\n",
        "    \n",
        "    return tpr, fpr\n",
        "\n"
      ],
      "id": "t_WRscVsqrm4"
    },
    {
      "cell_type": "code",
      "execution_count": 70,
      "metadata": {
        "id": "b2s7ntvts7hS"
      },
      "outputs": [],
      "source": [
        "def get_all_roc_coordinates(y_real, y_proba):\n",
        "    '''\n",
        "    Calculates all the ROC Curve coordinates (tpr and fpr) by considering each point as a treshold for the predicion of the class.\n",
        "    \n",
        "    Args:\n",
        "        y_real: The list or series with the real classes.\n",
        "        y_proba: The array with the probabilities for each class, obtained by using the `.predict_proba()` method.\n",
        "        \n",
        "    Returns:\n",
        "        tpr_list: The list of TPRs representing each threshold.\n",
        "        fpr_list: The list of FPRs representing each threshold.\n",
        "    '''\n",
        "    tpr_list = [0]\n",
        "    fpr_list = [0]\n",
        "    for i in range(len(y_proba)):\n",
        "        threshold = y_proba[i]\n",
        "        y_pred = y_proba >= threshold\n",
        "        tpr, fpr = calculate_tpr_fpr(y_real, y_pred)\n",
        "        tpr_list.append(tpr)\n",
        "        fpr_list.append(fpr)\n",
        "    return tpr_list, fpr_list"
      ],
      "id": "b2s7ntvts7hS"
    },
    {
      "cell_type": "code",
      "execution_count": 71,
      "metadata": {
        "id": "GF9Fo6HYtFak"
      },
      "outputs": [],
      "source": [
        "def plot_roc_curve(tpr, fpr, scatter = True, ax = None):\n",
        "    '''\n",
        "    Plots the ROC Curve by using the list of coordinates (tpr and fpr).\n",
        "    \n",
        "    Args:\n",
        "        tpr: The list of TPRs representing each coordinate.\n",
        "        fpr: The list of FPRs representing each coordinate.\n",
        "        scatter: When True, the points used on the calculation will be plotted with the line (default = True).\n",
        "    '''\n",
        "    if ax == None:\n",
        "        plt.figure(figsize = (5, 5))\n",
        "        ax = plt.axes()\n",
        "    \n",
        "    if scatter:\n",
        "        sns.scatterplot(x = fpr, y = tpr, ax = ax)\n",
        "    sns.lineplot(x = fpr, y = tpr, ax = ax)\n",
        "    sns.lineplot(x = [0, 1], y = [0, 1], color = 'green', ax = ax)\n",
        "    plt.xlim(-0.05, 1.05)\n",
        "    plt.ylim(-0.05, 1.05)\n",
        "    plt.xlabel(\"False Positive Rate\")\n",
        "    plt.ylabel(\"True Positive Rate\")"
      ],
      "id": "GF9Fo6HYtFak"
    },
    {
      "cell_type": "code",
      "execution_count": 73,
      "metadata": {
        "colab": {
          "base_uri": "https://localhost:8080/",
          "height": 585
        },
        "id": "aUZhFb0ftagw",
        "outputId": "1898aca3-8649-46e3-96fe-d6fd351d78f8"
      },
      "outputs": [
        {
          "output_type": "display_data",
          "data": {
            "text/plain": [
              "<Figure size 864x576 with 6 Axes>"
            ],
            "image/png": "[encoded data removed]"
          },
          "metadata": {
            "needs_background": "light"
          }
        }
      ],
      "source": [
        "from sklearn.metrics import roc_auc_score\n",
        "\n",
        "plt.figure(figsize = (12, 8))\n",
        "bins = [i/20 for i in range(20)] + [1]\n",
        "roc_auc_ovr = {}\n",
        "\n",
        "for i in range(len(classes)):\n",
        "    # Gets the class\n",
        "    c = classes[i]\n",
        "    \n",
        "    # Prepares an auxiliar dataframe to help with the plots\n",
        "    df_aux = X_test_.copy()\n",
        "    df_aux['class'] = [1 if y == c else 0 for y in y_test_]\n",
        "    df_aux['prob'] = y_prob[:, i]\n",
        "    df_aux = df_aux.reset_index(drop = True)\n",
        "    \n",
        "    # Plots the probability distribution for the class and the rest\n",
        "    ax = plt.subplot(2, 3, i+1)\n",
        "    sns.histplot(x = \"prob\", data = df_aux, hue = 'class', color = 'b', ax = ax, bins = bins)\n",
        "    ax.set_title(c)\n",
        "    ax.legend([f\"Class: {c}\", \"Rest\"])\n",
        "    ax.set_xlabel(f\"P(x = {c})\")\n",
        "    \n",
        "    # Calculates the ROC Coordinates and plots the ROC Curves\n",
        "    ax_bottom = plt.subplot(2, 3, i+4)\n",
        "    tpr, fpr = get_all_roc_coordinates(df_aux['class'], df_aux['prob'])\n",
        "    plot_roc_curve(tpr, fpr, scatter = False, ax = ax_bottom)\n",
        "    ax_bottom.set_title(\"ROC Curve OvR\")\n",
        "    \n",
        "    # Calculates the ROC AUC OvR\n",
        "    roc_auc_ovr[c] = roc_auc_score(df_aux['class'], df_aux['prob'])\n",
        "    \n",
        "plt.tight_layout()  "
      ],
      "id": "aUZhFb0ftagw"
    },
    {
      "cell_type": "code",
      "execution_count": 72,
      "metadata": {
        "id": "elDOzsYZr63Q"
      },
      "outputs": [],
      "source": [
        ""
      ],
      "id": "elDOzsYZr63Q"
    }
  ],
  "metadata": {
    "colab": {
      "name": "Untitled.ipynb",
      "provenance": [],
      "include_colab_link": true
    },
    "kernelspec": {
      "display_name": "Python 3 (ipykernel)",
      "language": "python",
      "name": "python3"
    },
    "language_info": {
      "codemirror_mode": {
        "name": "ipython",
        "version": 3
      },
      "file_extension": ".py",
      "mimetype": "text/x-python",
      "name": "python",
      "nbconvert_exporter": "python",
      "pygments_lexer": "ipython3",
      "version": "3.9.7"
    },
    "accelerator": "TPU"
  },
  "nbformat": 4,
  "nbformat_minor": 5
}